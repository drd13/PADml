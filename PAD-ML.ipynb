{
 "cells": [
  {
   "cell_type": "markdown",
   "metadata": {},
   "source": [
    "## Phys Astro Data: Deep Learning using Pytorch and Keras\n",
    "\n",
    "Objectives:\n",
    "* Explain the essential components behind training a neural network\n",
    "* Show simple practical example of how to program a neural network\n",
    "* Contrast the two leading frameworks (Pytorch and Keras) so that people can make an informed decision.\n",
    "* Try and make it useful for people who already know machine learning (with small links to papers and asides).\n",
    "\n",
    "We will only talk about neural networks (ie deep learning) as this is what these libraries are specialized for."
   ]
  },
  {
   "cell_type": "markdown",
   "metadata": {},
   "source": [
    "### Neural Network Basics\n",
    "\n",
    "Machine learning = learning from examples.\n",
    "\n",
    "Let us begin with an example, consider we have a dataset containing images of digits as well as their **labels**, and we want to be able to predict the labels directly from the images."
   ]
  },
  {
   "cell_type": "code",
   "execution_count": 1,
   "metadata": {},
   "outputs": [
    {
     "data": {
      "text/html": [
       "<img src=\"https://corochann.com/wp-content/uploads/2017/02/mnist_plot-800x600.png\",width=200,height=200>"
      ],
      "text/plain": [
       "<IPython.core.display.HTML object>"
      ]
     },
     "metadata": {},
     "output_type": "display_data"
    }
   ],
   "source": [
    "%%html\n",
    "<img src=\"https://corochann.com/wp-content/uploads/2017/02/mnist_plot-800x600.png\",width=200,height=200>"
   ]
  },
  {
   "cell_type": "markdown",
   "metadata": {},
   "source": [
    "If we want an automated process to design an algorithm, we need to be able to assess whether an algorithm is better than another. This is where the **loss function** comes in. A typical choice is"
   ]
  },
  {
   "cell_type": "markdown",
   "metadata": {},
   "source": [
    "\\begin{equation}\n",
    "   MSE = \\sum_{1}^{N} (y_i-\\hat{y}(x_i))^2\n",
    "\\end{equation}"
   ]
  },
  {
   "cell_type": "markdown",
   "metadata": {},
   "source": [
    "\\begin{equation}\n",
    "Cross Entropy := -  \\sum_{1}^{N} \\sum_{c=1}^My_{o,c}\\log(p_{o,c})\n",
    "\\end{equation}\n",
    "where \n",
    "* M - number of classes (0,1,2,3,4,5,6,7,8,9 for the digit recognition)\n",
    "* y - binary indicator (0 or 1) if class label c is the correct classification for observation o\n",
    "* p - predicted probability observation o is of class c. \n",
    "\n",
    "This will be maximized when $p$ is exactly equal to the corresponding y"
   ]
  },
  {
   "cell_type": "markdown",
   "metadata": {},
   "source": [
    "We are interested in finding an algorithm/function that can find a low value of the loss function. We need to have some flexible way of parametrizing this function. This is where the Neural Network comes in."
   ]
  },
  {
   "cell_type": "code",
   "execution_count": 123,
   "metadata": {},
   "outputs": [
    {
     "data": {
      "text/html": [
       "<img src=\"https://cdn-images-1.medium.com/max/1600/1*QVIyc5HnGDWTNX3m-nIm9w.png\",width=200,height=200>"
      ],
      "text/plain": [
       "<IPython.core.display.HTML object>"
      ]
     },
     "metadata": {},
     "output_type": "display_data"
    }
   ],
   "source": [
    "%%html\n",
    "<img src=\"https://cdn-images-1.medium.com/max/1600/1*QVIyc5HnGDWTNX3m-nIm9w.png\",width=200,height=200>"
   ]
  },
  {
   "cell_type": "markdown",
   "metadata": {},
   "source": [
    "A **neural network** contains many parameters in the form of edges and activation functions. The activations are defined as\n",
    "$a_j = \\Phi\\left ( \\sum_{i} w_{ij} a_i +b_j \\right )$ \n"
   ]
  },
  {
   "cell_type": "markdown",
   "metadata": {},
   "source": [
    "By varying the neural network parameters, we change the mathematical function that the neural network is representing. With small changes to the parameters only leading to slight modifications in the function represented by the neural network."
   ]
  },
  {
   "cell_type": "markdown",
   "metadata": {},
   "source": [
    "If we look back to what we have done so far, through the neural network, we are able to generate many different algorithms by changing the parameters (weights, activations) and through the loss function we are able to assess which algorithm is the best. At this point, if we had infinite time we could just generate random weights and activations and keep the model that leads to the best loss function. This however, would take a really really really long time."
   ]
  },
  {
   "cell_type": "markdown",
   "metadata": {},
   "source": [
    "**Backpropagation** is what allows us to find good values for the edges and weights of our network. A full explanation is beyond the scope of this talk but we will explain intution behind it. "
   ]
  },
  {
   "cell_type": "markdown",
   "metadata": {},
   "source": [
    "Backpropagation is directly related to the **loss function**"
   ]
  },
  {
   "cell_type": "code",
   "execution_count": 3,
   "metadata": {},
   "outputs": [
    {
     "data": {
      "text/html": [
       "<img src=\"https://blog.paperspace.com/content/images/2018/05/challenges-1.png\",width=10,height=10>"
      ],
      "text/plain": [
       "<IPython.core.display.HTML object>"
      ]
     },
     "metadata": {},
     "output_type": "display_data"
    }
   ],
   "source": [
    "%%html\n",
    "<img src=\"https://blog.paperspace.com/content/images/2018/05/challenges-1.png\",width=10,height=10>"
   ]
  },
  {
   "cell_type": "markdown",
   "metadata": {},
   "source": [
    "**Backpropagation** is a way to get the gradient of the loss function, for the current set of parameters."
   ]
  },
  {
   "cell_type": "markdown",
   "metadata": {},
   "source": [
    "When we have the gradient of the loss function. We can make small changes to the parameters accordingly. If we iteratively repeat this procedure, we will then converge to a local minima. This is known as **gradient descent**."
   ]
  },
  {
   "cell_type": "code",
   "execution_count": 4,
   "metadata": {},
   "outputs": [
    {
     "data": {
      "text/html": [
       "<img src=\"https://cdn-images-1.medium.com/max/800/1*yasmQ5kvlmbYMe8eDkyl6w.png\",width=10,height=10>"
      ],
      "text/plain": [
       "<IPython.core.display.HTML object>"
      ]
     },
     "metadata": {},
     "output_type": "display_data"
    }
   ],
   "source": [
    "%%html\n",
    "<img src=\"https://cdn-images-1.medium.com/max/800/1*yasmQ5kvlmbYMe8eDkyl6w.png\",width=10,height=10>"
   ]
  },
  {
   "cell_type": "markdown",
   "metadata": {},
   "source": [
    "For purposes of illustration, we have only shown two dimensions. When we have many parameters, our loss function would have as many dimensions as there are parameters."
   ]
  },
  {
   "cell_type": "markdown",
   "metadata": {},
   "source": [
    "To summarize how a neural network is trained:  \n",
    "* Create a Neural network structure and initialize it with random parameter values (weights and activation functions). For our example we want as many inputs as image pixels and as many outputs as digit choices. \n",
    "\n",
    "* Define a loss function which measuring how well our neural network is doing at the task (how well does it predict digits). Before the neural network is trained, the neural network will be terrible at this task.\n",
    "\n",
    "* Iteratively, pass images through the neural network. Estimate the gradient of the parameters and update it. Iteratively improving the neural network output."
   ]
  },
  {
   "cell_type": "markdown",
   "metadata": {},
   "source": [
    "## Define Hyperparameters\n",
    "Hyperparameters are values/parameters set by the user before the learning begins, in a way similar to the input parameters for our physical models. "
   ]
  },
  {
   "cell_type": "code",
   "execution_count": 204,
   "metadata": {},
   "outputs": [],
   "source": [
    "learning_rate = 0.01\n",
    "n_batch = 64\n",
    "n_batch_test = 1000\n",
    "n_classes = 10\n",
    "epochs = 5"
   ]
  },
  {
   "cell_type": "markdown",
   "metadata": {},
   "source": [
    "# Pytorch Implementation"
   ]
  },
  {
   "cell_type": "code",
   "execution_count": 134,
   "metadata": {},
   "outputs": [],
   "source": [
    "import torch\n",
    "import torchvision\n",
    "import torch.nn as nn\n",
    "import torch.nn.functional as F\n",
    "import torch.optim as optim\n",
    "from torchvision import datasets, transforms"
   ]
  },
  {
   "cell_type": "code",
   "execution_count": 205,
   "metadata": {},
   "outputs": [],
   "source": [
    "train_mnist = torchvision.datasets.MNIST('.', train=True, download=True,\n",
    "                             transform=torchvision.transforms.Compose([\n",
    "                               torchvision.transforms.ToTensor(),\n",
    "                               torchvision.transforms.Normalize(\n",
    "                                 (0.1307,), (0.3081,))\n",
    "                             ]))\n",
    "\n",
    "test_mnist = torchvision.datasets.MNIST('.', train=False, download=True,\n",
    "                             transform=torchvision.transforms.Compose([\n",
    "                               torchvision.transforms.ToTensor(),\n",
    "                               torchvision.transforms.Normalize(\n",
    "                                 (0.1307,), (0.3081,))\n",
    "                             ]))\n",
    "\n",
    "\n",
    "\n",
    "loader = torch.utils.data.DataLoader(train_mnist,batch_size=n_batch, shuffle=True)\n",
    "test_loader = torch.utils.data.DataLoader(test_mnist,batch_size=1000, shuffle=True)"
   ]
  },
  {
   "cell_type": "markdown",
   "metadata": {},
   "source": [
    "We can take a look at our mnist dataset"
   ]
  },
  {
   "cell_type": "code",
   "execution_count": 206,
   "metadata": {},
   "outputs": [
    {
     "data": {
      "image/png": "[encoded data removed]",
      "text/plain": [
       "<Figure size 432x288 with 1 Axes>"
      ]
     },
     "metadata": {},
     "output_type": "display_data"
    },
    {
     "data": {
      "image/png": "[encoded data removed]",
      "text/plain": [
       "<Figure size 432x288 with 1 Axes>"
      ]
     },
     "metadata": {},
     "output_type": "display_data"
    },
    {
     "data": {
      "image/png": "[encoded data removed]",
      "text/plain": [
       "<Figure size 432x288 with 1 Axes>"
      ]
     },
     "metadata": {},
     "output_type": "display_data"
    }
   ],
   "source": [
    "import matplotlib.pyplot as plt\n",
    "train_mnist[0][0][0].shape\n",
    "for i in range(3):\n",
    "    plt.title(\"label:{}\".format(train_mnist[i][1].numpy()))\n",
    "    plt.imshow(train_mnist[i][0][0], cmap='gray', interpolation='none')\n",
    "    plt.show()"
   ]
  },
  {
   "cell_type": "markdown",
   "metadata": {},
   "source": [
    "In pytorch, we define our neural network by inheriting from nn.module. The forward function is the function that is called when evaluating new data"
   ]
  },
  {
   "cell_type": "code",
   "execution_count": 207,
   "metadata": {},
   "outputs": [
    {
     "data": {
      "text/plain": [
       "tensor([[[-0.4242, -0.4242, -0.4242, -0.4242, -0.4242, -0.4242, -0.4242,\n",
       "          -0.4242, -0.4242, -0.4242, -0.4242, -0.4242, -0.4242, -0.4242,\n",
       "          -0.4242, -0.4242, -0.4242, -0.4242, -0.4242, -0.4242, -0.4242,\n",
       "          -0.4242, -0.4242, -0.4242, -0.4242, -0.4242, -0.4242, -0.4242],\n",
       "         [-0.4242, -0.4242, -0.4242, -0.4242, -0.4242, -0.4242, -0.4242,\n",
       "          -0.4242, -0.4242, -0.4242, -0.4242, -0.4242, -0.4242, -0.4242,\n",
       "          -0.4242, -0.4242, -0.4242, -0.4242, -0.4242, -0.4242, -0.4242,\n",
       "          -0.4242, -0.4242, -0.4242, -0.4242, -0.4242, -0.4242, -0.4242],\n",
       "         [-0.4242, -0.4242, -0.4242, -0.4242, -0.4242, -0.4242, -0.4242,\n",
       "          -0.4242, -0.4242, -0.4242, -0.4242, -0.4242, -0.4242, -0.4242,\n",
       "          -0.4242, -0.4242, -0.4242, -0.4242, -0.4242, -0.4242, -0.4242,\n",
       "          -0.4242, -0.4242, -0.4242, -0.4242, -0.4242, -0.4242, -0.4242],\n",
       "         [-0.4242, -0.4242, -0.4242, -0.4242, -0.4242, -0.4242, -0.4242,\n",
       "          -0.4242, -0.4242, -0.4242, -0.4242, -0.4242, -0.4242, -0.4242,\n",
       "          -0.4242, -0.4242, -0.4242, -0.4242, -0.4242, -0.4242, -0.4242,\n",
       "          -0.4242, -0.4242, -0.4242, -0.4242, -0.4242, -0.4242, -0.4242],\n",
       "         [-0.4242, -0.4242, -0.4242, -0.4242, -0.4242, -0.4242, -0.4242,\n",
       "          -0.4242, -0.4242, -0.4242, -0.4242, -0.4242, -0.4242, -0.4242,\n",
       "          -0.4242,  0.2249,  1.5996,  2.7960,  1.5996,  0.2122, -0.4242,\n",
       "          -0.4242, -0.4242, -0.4242, -0.4242, -0.4242, -0.4242, -0.4242],\n",
       "         [-0.4242, -0.4242, -0.4242, -0.4242, -0.4242, -0.4242, -0.4242,\n",
       "          -0.4242, -0.4242, -0.4242, -0.4242, -0.4242, -0.4242, -0.4242,\n",
       "           0.1867,  2.6051,  2.7833,  2.7833,  2.7833,  2.5924, -0.4242,\n",
       "          -0.4242, -0.4242, -0.4242, -0.4242, -0.4242, -0.4242, -0.4242],\n",
       "         [-0.4242, -0.4242, -0.4242, -0.4242, -0.4242, -0.4242, -0.4242,\n",
       "          -0.4242, -0.4242, -0.4242, -0.4242, -0.4242, -0.4242,  0.2631,\n",
       "           2.4651,  2.7960,  2.7833,  2.6178,  2.5415,  2.7833,  0.3013,\n",
       "          -0.3478, -0.4242, -0.4242, -0.4242, -0.4242, -0.4242, -0.4242],\n",
       "         [-0.4242, -0.4242, -0.4242, -0.4242, -0.4242, -0.4242, -0.4242,\n",
       "          -0.4242, -0.4242, -0.4242, -0.4242, -0.2969,  0.3395,  2.4269,\n",
       "           2.7833,  2.7960,  2.7833,  2.1469,  0.6450,  2.7833,  2.7960,\n",
       "           1.1286, -0.4242, -0.4242, -0.4242, -0.4242, -0.4242, -0.4242],\n",
       "         [-0.4242, -0.4242, -0.4242, -0.4242, -0.4242, -0.4242, -0.4242,\n",
       "          -0.4242, -0.4242, -0.4242, -0.4242,  1.6505,  2.7833,  2.7833,\n",
       "           2.7833,  2.7960,  2.7833,  2.7833,  0.7977,  1.9814,  2.7960,\n",
       "           1.7014, -0.4242, -0.4242, -0.4242, -0.4242, -0.4242, -0.4242],\n",
       "         [-0.4242, -0.4242, -0.4242, -0.4242, -0.4242, -0.4242, -0.4242,\n",
       "          -0.4242, -0.4242, -0.4242,  0.2249,  2.6051,  2.7960,  2.7960,\n",
       "           1.9942,  1.0268,  2.7960,  2.4778,  0.1740,  0.5813,  2.8215,\n",
       "           1.7141, -0.4242, -0.4242, -0.4242, -0.4242, -0.4242, -0.4242],\n",
       "         [-0.4242, -0.4242, -0.4242, -0.4242, -0.4242, -0.4242, -0.4242,\n",
       "          -0.4242, -0.4242,  0.1867,  2.6051,  2.7833,  2.7833,  1.8541,\n",
       "          -0.2715,  0.5304,  1.1159, -0.1569, -0.4242, -0.4242,  2.7960,\n",
       "           2.6687,  0.2122, -0.4242, -0.4242, -0.4242, -0.4242, -0.4242],\n",
       "         [-0.4242, -0.4242, -0.4242, -0.4242, -0.4242, -0.4242, -0.4242,\n",
       "          -0.4242,  0.0595,  1.6759,  2.7960,  2.5415,  2.2233,  0.6450,\n",
       "          -0.4242, -0.4242, -0.4242, -0.4242, -0.4242, -0.4242,  2.7960,\n",
       "           2.7833,  1.6759, -0.4242, -0.4242, -0.4242, -0.4242, -0.4242],\n",
       "         [-0.4242, -0.4242, -0.4242, -0.4242, -0.4242, -0.4242, -0.4242,\n",
       "          -0.3351,  1.8414,  2.7833,  2.6306,  0.4795, -0.1824, -0.0678,\n",
       "          -0.4242, -0.4242, -0.4242, -0.4242, -0.4242, -0.4242,  2.7960,\n",
       "           2.7833,  2.0578, -0.4242, -0.4242, -0.4242, -0.4242, -0.4242],\n",
       "         [-0.4242, -0.4242, -0.4242, -0.4242, -0.4242, -0.4242, -0.4242,\n",
       "           0.3013,  2.7833,  2.7833,  0.3777, -0.4242, -0.4242, -0.4242,\n",
       "          -0.4242, -0.4242, -0.4242, -0.4242, -0.4242, -0.4242,  2.7960,\n",
       "           2.7833,  2.0578, -0.4242, -0.4242, -0.4242, -0.4242, -0.4242],\n",
       "         [-0.4242, -0.4242, -0.4242, -0.4242, -0.4242, -0.4242, -0.4242,\n",
       "           2.0960,  2.7960,  1.9942, -0.4242, -0.4242, -0.4242, -0.4242,\n",
       "          -0.4242, -0.4242, -0.4242, -0.4242, -0.4242, -0.4242,  2.8215,\n",
       "           2.7960,  2.0705, -0.4242, -0.4242, -0.4242, -0.4242, -0.4242],\n",
       "         [-0.4242, -0.4242, -0.4242, -0.4242, -0.4242, -0.4242,  0.5431,\n",
       "           2.7069,  2.7833,  1.0013, -0.4242, -0.4242, -0.4242, -0.4242,\n",
       "          -0.4242, -0.4242, -0.4242, -0.4242, -0.4242, -0.4242,  2.7960,\n",
       "           2.7833,  1.4596, -0.4242, -0.4242, -0.4242, -0.4242, -0.4242],\n",
       "         [-0.4242, -0.4242, -0.4242, -0.4242, -0.4242, -0.4242,  0.6577,\n",
       "           2.7833,  2.5033, -0.1060, -0.4242, -0.4242, -0.4242, -0.4242,\n",
       "          -0.4242, -0.4242, -0.4242, -0.4242, -0.3351,  1.2941,  2.7960,\n",
       "           1.9432, -0.2715, -0.4242, -0.4242, -0.4242, -0.4242, -0.4242],\n",
       "         [-0.4242, -0.4242, -0.4242, -0.4242, -0.4242, -0.4242,  0.6577,\n",
       "           2.7833,  2.4142, -0.4242, -0.4242, -0.4242, -0.4242, -0.4242,\n",
       "          -0.4242, -0.4242, -0.4242, -0.3351,  1.2432,  2.7833,  2.4396,\n",
       "           0.4795, -0.4242, -0.4242, -0.4242, -0.4242, -0.4242, -0.4242],\n",
       "         [-0.4242, -0.4242, -0.4242, -0.4242, -0.4242, -0.4242,  0.6577,\n",
       "           2.7833,  1.4214, -0.4242, -0.4242, -0.4242, -0.4242, -0.4242,\n",
       "          -0.4242, -0.4242,  0.1867,  1.6759,  2.7833,  1.7778, -0.4242,\n",
       "          -0.4242, -0.4242, -0.4242, -0.4242, -0.4242, -0.4242, -0.4242],\n",
       "         [-0.4242, -0.4242, -0.4242, -0.4242, -0.4242, -0.4242,  0.6704,\n",
       "           2.7960,  2.4396, -0.4242, -0.4242, -0.4242, -0.4242, -0.4242,\n",
       "          -0.4242,  1.0268,  2.6051,  2.7960,  1.6378, -0.4242, -0.4242,\n",
       "          -0.4242, -0.4242, -0.4242, -0.4242, -0.4242, -0.4242, -0.4242],\n",
       "         [-0.4242, -0.4242, -0.4242, -0.4242, -0.4242, -0.4242,  0.6577,\n",
       "           2.7833,  2.7451,  1.4341,  0.1867, -0.0551,  0.6577,  1.8414,\n",
       "           2.4396,  2.7960,  2.4142,  1.7014,  0.2886, -0.4242, -0.4242,\n",
       "          -0.4242, -0.4242, -0.4242, -0.4242, -0.4242, -0.4242, -0.4242],\n",
       "         [-0.4242, -0.4242, -0.4242, -0.4242, -0.4242, -0.4242,  0.6577,\n",
       "           2.7833,  2.7833,  2.7833,  2.4906,  2.3124,  2.7833,  2.7833,\n",
       "           2.7833,  2.0705,  1.2305, -0.4242, -0.4242, -0.4242, -0.4242,\n",
       "          -0.4242, -0.4242, -0.4242, -0.4242, -0.4242, -0.4242, -0.4242],\n",
       "         [-0.4242, -0.4242, -0.4242, -0.4242, -0.4242, -0.4242, -0.0678,\n",
       "           2.1087,  2.7833,  2.7833,  2.7960,  2.7833,  2.7833,  2.5415,\n",
       "           1.4214, -0.4242, -0.4242, -0.4242, -0.4242, -0.4242, -0.4242,\n",
       "          -0.4242, -0.4242, -0.4242, -0.4242, -0.4242, -0.4242, -0.4242],\n",
       "         [-0.4242, -0.4242, -0.4242, -0.4242, -0.4242, -0.4242, -0.4242,\n",
       "          -0.1060,  1.2050,  2.7833,  2.7960,  2.7833,  1.3705,  0.0467,\n",
       "          -0.4242, -0.4242, -0.4242, -0.4242, -0.4242, -0.4242, -0.4242,\n",
       "          -0.4242, -0.4242, -0.4242, -0.4242, -0.4242, -0.4242, -0.4242],\n",
       "         [-0.4242, -0.4242, -0.4242, -0.4242, -0.4242, -0.4242, -0.4242,\n",
       "          -0.4242, -0.4242, -0.4242, -0.4242, -0.4242, -0.4242, -0.4242,\n",
       "          -0.4242, -0.4242, -0.4242, -0.4242, -0.4242, -0.4242, -0.4242,\n",
       "          -0.4242, -0.4242, -0.4242, -0.4242, -0.4242, -0.4242, -0.4242],\n",
       "         [-0.4242, -0.4242, -0.4242, -0.4242, -0.4242, -0.4242, -0.4242,\n",
       "          -0.4242, -0.4242, -0.4242, -0.4242, -0.4242, -0.4242, -0.4242,\n",
       "          -0.4242, -0.4242, -0.4242, -0.4242, -0.4242, -0.4242, -0.4242,\n",
       "          -0.4242, -0.4242, -0.4242, -0.4242, -0.4242, -0.4242, -0.4242],\n",
       "         [-0.4242, -0.4242, -0.4242, -0.4242, -0.4242, -0.4242, -0.4242,\n",
       "          -0.4242, -0.4242, -0.4242, -0.4242, -0.4242, -0.4242, -0.4242,\n",
       "          -0.4242, -0.4242, -0.4242, -0.4242, -0.4242, -0.4242, -0.4242,\n",
       "          -0.4242, -0.4242, -0.4242, -0.4242, -0.4242, -0.4242, -0.4242],\n",
       "         [-0.4242, -0.4242, -0.4242, -0.4242, -0.4242, -0.4242, -0.4242,\n",
       "          -0.4242, -0.4242, -0.4242, -0.4242, -0.4242, -0.4242, -0.4242,\n",
       "          -0.4242, -0.4242, -0.4242, -0.4242, -0.4242, -0.4242, -0.4242,\n",
       "          -0.4242, -0.4242, -0.4242, -0.4242, -0.4242, -0.4242, -0.4242]]])"
      ]
     },
     "execution_count": 207,
     "metadata": {},
     "output_type": "execute_result"
    }
   ],
   "source": [
    "train_mnist[1][0]"
   ]
  },
  {
   "cell_type": "code",
   "execution_count": 208,
   "metadata": {},
   "outputs": [],
   "source": [
    "class MnistNetwork(nn.Module):\n",
    "    def __init__(self):\n",
    "        super(MnistNetwork, self).__init__()\n",
    "\n",
    "        self.fc = nn.Sequential(nn.Linear(28*28, 1024),\n",
    "                                nn.ReLU(), \n",
    "                                nn.Linear(1024, 512),\n",
    "                                nn.ReLU(),\n",
    "                                nn.Linear(512,256),\n",
    "                                nn.ReLU(),\n",
    "                                nn.Linear(256,128),\n",
    "                                nn.ReLU(),\n",
    "                                nn.Linear(128, 10)\n",
    "                                )\n",
    "\n",
    "    def forward(self, x):\n",
    "        output = self.fc(x)\n",
    "        return output\n",
    "        #return F.softmax(output, dim=1)"
   ]
  },
  {
   "cell_type": "code",
   "execution_count": 209,
   "metadata": {},
   "outputs": [],
   "source": [
    "network = MnistNetwork()\n"
   ]
  },
  {
   "cell_type": "markdown",
   "metadata": {},
   "source": [
    "we next need to define a loss function, and choose which flavour of gradient descent to use"
   ]
  },
  {
   "cell_type": "code",
   "execution_count": 210,
   "metadata": {},
   "outputs": [],
   "source": [
    "# create a stochastic gradient descent optimizer\n",
    "optimizer = optim.Adam(network.parameters(), lr=learning_rate)\n",
    "# create a loss function\n",
    "loss =  nn.CrossEntropyLoss()"
   ]
  },
  {
   "cell_type": "markdown",
   "metadata": {},
   "source": [
    "We next train the neural network."
   ]
  },
  {
   "cell_type": "code",
   "execution_count": 211,
   "metadata": {},
   "outputs": [
    {
     "name": "stdout",
     "output_type": "stream",
     "text": [
      "tensor(2.3059)\n",
      "tensor(9.0591)\n",
      "tensor(2.8973)\n",
      "tensor(2.3068)\n",
      "tensor(2.3352)\n",
      "tensor(2.3092)\n",
      "tensor(2.2738)\n",
      "tensor(2.1961)\n",
      "tensor(2.1009)\n",
      "tensor(2.0828)\n",
      "tensor(1.9322)\n",
      "tensor(1.7695)\n",
      "tensor(1.8021)\n",
      "tensor(1.7102)\n",
      "tensor(1.4931)\n",
      "tensor(1.3185)\n",
      "tensor(1.4155)\n",
      "tensor(1.2024)\n",
      "tensor(1.1584)\n",
      "tensor(1.0275)\n",
      "tensor(1.5175)\n",
      "tensor(1.7256)\n",
      "tensor(1.3288)\n",
      "tensor(1.0445)\n",
      "tensor(0.9674)\n",
      "tensor(1.2511)\n",
      "tensor(0.9191)\n",
      "tensor(1.0060)\n",
      "tensor(0.8960)\n",
      "tensor(0.8991)\n",
      "tensor(1.3251)\n",
      "tensor(0.8790)\n",
      "tensor(0.8417)\n",
      "tensor(1.0677)\n",
      "tensor(0.8677)\n",
      "tensor(0.9274)\n",
      "tensor(0.7588)\n",
      "tensor(0.7194)\n",
      "tensor(0.9209)\n",
      "tensor(0.5134)\n",
      "tensor(0.7046)\n",
      "tensor(0.6207)\n",
      "tensor(0.8312)\n",
      "tensor(0.8002)\n",
      "tensor(0.8487)\n",
      "tensor(0.6805)\n",
      "tensor(0.7145)\n",
      "tensor(0.8832)\n",
      "tensor(0.7897)\n",
      "tensor(0.4205)\n",
      "tensor(0.7353)\n",
      "tensor(0.6784)\n",
      "tensor(0.5338)\n",
      "tensor(0.5386)\n",
      "tensor(0.6092)\n",
      "tensor(0.6181)\n",
      "tensor(0.4730)\n",
      "tensor(0.4175)\n",
      "tensor(0.6646)\n",
      "tensor(0.6545)\n",
      "tensor(0.6540)\n",
      "tensor(0.5142)\n",
      "tensor(0.5195)\n",
      "tensor(0.6650)\n",
      "tensor(0.6731)\n",
      "tensor(0.7758)\n",
      "tensor(0.2822)\n",
      "tensor(0.7564)\n",
      "tensor(0.7527)\n",
      "tensor(0.3906)\n",
      "tensor(0.5699)\n",
      "tensor(0.4396)\n",
      "tensor(0.5233)\n",
      "tensor(0.5042)\n",
      "tensor(0.5317)\n",
      "tensor(0.3257)\n",
      "tensor(0.2671)\n",
      "tensor(0.8500)\n",
      "tensor(0.5671)\n",
      "tensor(0.5027)\n",
      "tensor(0.4104)\n",
      "tensor(0.8038)\n",
      "tensor(0.4251)\n",
      "tensor(0.3021)\n",
      "tensor(0.4605)\n",
      "tensor(0.9541)\n",
      "tensor(0.3997)\n",
      "tensor(0.7587)\n",
      "tensor(0.3205)\n",
      "tensor(0.6800)\n",
      "tensor(0.4414)\n",
      "tensor(0.5757)\n",
      "tensor(0.8644)\n",
      "tensor(0.3942)\n",
      "tensor(0.4849)\n",
      "tensor(0.4505)\n",
      "tensor(0.9551)\n",
      "tensor(0.5141)\n",
      "tensor(0.3092)\n",
      "tensor(0.4355)\n",
      "tensor(0.4938)\n",
      "tensor(0.5640)\n",
      "tensor(0.5926)\n",
      "tensor(0.3746)\n",
      "tensor(0.6232)\n",
      "tensor(0.2703)\n",
      "tensor(0.3102)\n",
      "tensor(0.6048)\n",
      "tensor(0.5251)\n",
      "tensor(0.5195)\n",
      "tensor(0.6261)\n",
      "tensor(0.5238)\n",
      "tensor(0.3959)\n",
      "tensor(0.6478)\n",
      "tensor(0.2849)\n",
      "tensor(0.4455)\n",
      "tensor(0.1198)\n",
      "tensor(0.2701)\n",
      "tensor(0.1591)\n",
      "tensor(0.4698)\n",
      "tensor(0.4060)\n",
      "tensor(0.5267)\n",
      "tensor(0.3792)\n",
      "tensor(0.4491)\n",
      "tensor(0.3993)\n",
      "tensor(0.3856)\n",
      "tensor(1.00000e-02 *\n",
      "       8.9175)\n",
      "tensor(0.1579)\n",
      "tensor(0.5660)\n",
      "tensor(0.2883)\n",
      "tensor(0.5976)\n",
      "tensor(0.2975)\n",
      "tensor(0.4793)\n",
      "tensor(0.6535)\n",
      "tensor(0.4048)\n",
      "tensor(0.5316)\n",
      "tensor(0.8144)\n",
      "tensor(0.5249)\n",
      "tensor(0.5738)\n",
      "tensor(0.2868)\n",
      "tensor(0.4520)\n",
      "tensor(0.4256)\n",
      "tensor(0.4088)\n",
      "tensor(0.2364)\n",
      "tensor(0.7297)\n",
      "tensor(0.5098)\n",
      "tensor(0.5459)\n",
      "tensor(0.4068)\n",
      "tensor(0.5633)\n",
      "tensor(0.4415)\n",
      "tensor(0.5834)\n",
      "tensor(0.3125)\n",
      "tensor(0.2041)\n",
      "tensor(0.4366)\n",
      "tensor(0.2924)\n",
      "tensor(0.1535)\n",
      "tensor(0.4166)\n",
      "tensor(0.5765)\n",
      "tensor(0.2197)\n",
      "tensor(0.4936)\n",
      "tensor(0.7885)\n",
      "tensor(0.6283)\n",
      "tensor(0.6008)\n",
      "tensor(0.3458)\n",
      "tensor(0.3933)\n",
      "tensor(0.5123)\n",
      "tensor(0.4256)\n",
      "tensor(0.3630)\n",
      "tensor(0.3102)\n",
      "tensor(0.7079)\n",
      "tensor(0.3758)\n",
      "tensor(0.3892)\n",
      "tensor(0.4724)\n",
      "tensor(0.5881)\n",
      "tensor(0.4068)\n",
      "tensor(0.2807)\n",
      "tensor(0.2837)\n",
      "tensor(0.3578)\n",
      "tensor(0.4510)\n",
      "tensor(0.1750)\n",
      "tensor(0.2846)\n",
      "tensor(0.5110)\n",
      "tensor(0.6394)\n",
      "tensor(0.1670)\n",
      "tensor(0.3645)\n",
      "tensor(0.5881)\n",
      "tensor(0.6084)\n",
      "tensor(0.6830)\n",
      "tensor(0.3473)\n",
      "tensor(0.3676)\n",
      "tensor(0.4416)\n",
      "tensor(0.3489)\n",
      "tensor(0.2181)\n",
      "tensor(0.4874)\n",
      "tensor(0.4529)\n",
      "tensor(0.2423)\n",
      "tensor(0.4760)\n",
      "tensor(0.6163)\n",
      "tensor(0.3686)\n",
      "tensor(0.1807)\n",
      "tensor(0.3162)\n",
      "tensor(0.3319)\n",
      "tensor(0.6709)\n",
      "tensor(0.3296)\n",
      "tensor(0.3301)\n",
      "tensor(0.3493)\n",
      "tensor(0.3544)\n",
      "tensor(0.3029)\n",
      "tensor(0.3880)\n",
      "tensor(0.4637)\n",
      "tensor(0.3278)\n",
      "tensor(0.3062)\n",
      "tensor(0.1897)\n",
      "tensor(0.2027)\n",
      "tensor(0.5189)\n",
      "tensor(0.3778)\n",
      "tensor(0.3990)\n",
      "tensor(0.2313)\n",
      "tensor(0.1753)\n",
      "tensor(0.3476)\n",
      "tensor(0.3119)\n",
      "tensor(0.3593)\n",
      "tensor(0.3847)\n",
      "tensor(0.5264)\n",
      "tensor(0.3684)\n",
      "tensor(0.4258)\n",
      "tensor(0.1756)\n",
      "tensor(0.4429)\n",
      "tensor(0.1752)\n",
      "tensor(0.3904)\n",
      "tensor(0.2477)\n",
      "tensor(0.1943)\n",
      "tensor(0.1995)\n",
      "tensor(0.2776)\n",
      "tensor(0.2893)\n",
      "tensor(0.1995)\n",
      "tensor(0.2916)\n",
      "tensor(0.6615)\n",
      "tensor(0.5500)\n",
      "tensor(0.4163)\n",
      "tensor(0.8249)\n",
      "tensor(0.3098)\n",
      "tensor(0.3132)\n",
      "tensor(0.5063)\n",
      "tensor(0.2732)\n",
      "tensor(0.5685)\n",
      "tensor(0.2529)\n",
      "tensor(0.3548)\n",
      "tensor(0.3586)\n",
      "tensor(0.1693)\n",
      "tensor(0.4875)\n",
      "tensor(0.1864)\n",
      "tensor(0.3158)\n",
      "tensor(0.3903)\n",
      "tensor(0.3285)\n",
      "tensor(0.3568)\n",
      "tensor(0.4134)\n",
      "tensor(0.5444)\n",
      "tensor(0.2122)\n",
      "tensor(0.2462)\n",
      "tensor(0.2784)\n",
      "tensor(0.3821)\n",
      "tensor(0.3834)\n",
      "tensor(1.00000e-02 *\n",
      "       7.9795)\n",
      "tensor(0.2648)\n",
      "tensor(0.2793)\n",
      "tensor(0.5129)\n",
      "tensor(0.5490)\n",
      "tensor(0.4306)\n",
      "tensor(0.4420)\n",
      "tensor(0.2102)\n",
      "tensor(0.2252)\n",
      "tensor(0.4007)\n",
      "tensor(0.3599)\n",
      "tensor(0.3889)\n",
      "tensor(0.4956)\n",
      "tensor(0.2416)\n",
      "tensor(0.3541)\n",
      "tensor(0.3237)\n",
      "tensor(0.1880)\n",
      "tensor(0.3156)\n",
      "tensor(0.5965)\n",
      "tensor(0.4489)\n",
      "tensor(0.2476)\n",
      "tensor(0.4514)\n",
      "tensor(0.4577)\n",
      "tensor(0.6283)\n",
      "tensor(0.4330)\n",
      "tensor(0.2732)\n",
      "tensor(0.9052)\n",
      "tensor(0.2471)\n",
      "tensor(0.5524)\n",
      "tensor(0.2824)\n",
      "tensor(0.4877)\n",
      "tensor(0.2819)\n",
      "tensor(0.1427)\n",
      "tensor(0.1782)\n",
      "tensor(0.3811)\n",
      "tensor(0.2690)\n",
      "tensor(0.5465)\n",
      "tensor(0.4225)\n",
      "tensor(0.5055)\n",
      "tensor(0.2258)\n",
      "tensor(0.5083)\n",
      "tensor(0.2112)\n",
      "tensor(0.3261)\n",
      "tensor(0.3031)\n",
      "tensor(0.1040)\n",
      "tensor(0.4354)\n",
      "tensor(0.2739)\n",
      "tensor(0.1546)\n",
      "tensor(0.5873)\n",
      "tensor(0.1536)\n",
      "tensor(0.3698)\n",
      "tensor(0.1920)\n",
      "tensor(0.2264)\n",
      "tensor(0.3089)\n",
      "tensor(0.1440)\n",
      "tensor(0.2090)\n",
      "tensor(0.3533)\n",
      "tensor(0.3299)\n",
      "tensor(0.4533)\n",
      "tensor(0.2542)\n",
      "tensor(0.2187)\n",
      "tensor(0.2574)\n",
      "tensor(0.4469)\n",
      "tensor(0.4677)\n",
      "tensor(0.2095)\n",
      "tensor(0.2005)\n",
      "tensor(0.2983)\n",
      "tensor(0.4539)\n",
      "tensor(0.5422)\n",
      "tensor(0.3488)\n",
      "tensor(0.4600)\n",
      "tensor(0.3127)\n",
      "tensor(0.2804)\n",
      "tensor(0.3117)\n",
      "tensor(0.5433)\n",
      "tensor(0.3485)\n",
      "tensor(0.2918)\n",
      "tensor(0.3709)\n",
      "tensor(0.2767)\n",
      "tensor(0.3930)\n",
      "tensor(0.2381)\n",
      "tensor(0.4682)\n",
      "tensor(0.6566)\n",
      "tensor(0.2947)\n",
      "tensor(0.3202)\n",
      "tensor(0.2705)\n",
      "tensor(0.5161)\n",
      "tensor(0.4178)\n",
      "tensor(0.4553)\n",
      "tensor(0.7046)\n",
      "tensor(0.1400)\n",
      "tensor(0.4038)\n",
      "tensor(0.5406)\n",
      "tensor(0.3405)\n",
      "tensor(0.4604)\n",
      "tensor(0.2520)\n",
      "tensor(0.2603)\n",
      "tensor(0.1107)\n",
      "tensor(0.6917)\n",
      "tensor(0.1994)\n",
      "tensor(0.2391)\n",
      "tensor(0.3444)\n",
      "tensor(0.5275)\n",
      "tensor(0.3874)\n",
      "tensor(0.3076)\n",
      "tensor(0.2277)\n",
      "tensor(0.3412)\n",
      "tensor(0.1225)\n",
      "tensor(0.1253)\n",
      "tensor(0.2229)\n",
      "tensor(0.3074)\n",
      "tensor(0.2904)\n",
      "tensor(0.1907)\n",
      "tensor(0.2483)\n",
      "tensor(0.2142)\n",
      "tensor(0.4956)\n",
      "tensor(0.1377)\n",
      "tensor(0.3229)\n",
      "tensor(0.2078)\n",
      "tensor(0.2699)\n",
      "tensor(0.1588)\n",
      "tensor(0.2515)\n",
      "tensor(0.5088)\n",
      "tensor(0.1991)\n",
      "tensor(0.2194)\n",
      "tensor(0.3000)\n",
      "tensor(0.1757)\n",
      "tensor(0.1325)\n",
      "tensor(0.6058)\n",
      "tensor(0.3193)\n",
      "tensor(0.5908)\n",
      "tensor(0.4732)\n",
      "tensor(0.4343)\n",
      "tensor(0.1393)\n",
      "tensor(0.2632)\n",
      "tensor(0.1484)\n",
      "tensor(0.1327)\n",
      "tensor(0.3706)\n",
      "tensor(0.1879)\n",
      "tensor(0.3770)\n",
      "tensor(0.4872)\n",
      "tensor(0.1413)\n",
      "tensor(0.2055)\n",
      "tensor(0.6450)\n",
      "tensor(0.1913)\n",
      "tensor(0.3095)\n",
      "tensor(0.4953)\n",
      "tensor(0.4596)\n",
      "tensor(0.4018)\n",
      "tensor(0.2575)\n",
      "tensor(0.1640)\n",
      "tensor(0.2529)\n",
      "tensor(0.5745)\n",
      "tensor(0.2621)\n",
      "tensor(0.2906)\n",
      "tensor(0.4571)\n",
      "tensor(0.2841)\n",
      "tensor(0.1212)\n",
      "tensor(0.2587)\n",
      "tensor(0.3120)\n",
      "tensor(0.1576)\n",
      "tensor(0.2994)\n",
      "tensor(0.1456)\n",
      "tensor(0.2861)\n",
      "tensor(0.4180)\n",
      "tensor(0.2035)\n",
      "tensor(0.4268)\n",
      "tensor(0.2855)\n",
      "tensor(0.1725)\n",
      "tensor(0.1334)\n",
      "tensor(0.2778)\n",
      "tensor(0.3163)\n",
      "tensor(0.3275)\n",
      "tensor(0.1606)\n",
      "tensor(0.2675)\n",
      "tensor(0.2989)\n",
      "tensor(0.2947)\n",
      "tensor(0.4609)\n",
      "tensor(0.5105)\n",
      "tensor(0.3404)\n",
      "tensor(0.1487)\n",
      "tensor(0.3369)\n",
      "tensor(0.2259)\n",
      "tensor(0.2588)\n",
      "tensor(0.3687)\n",
      "tensor(0.1350)\n",
      "tensor(0.2816)\n",
      "tensor(0.2856)\n",
      "tensor(0.1131)\n",
      "tensor(0.5242)\n",
      "tensor(0.3384)\n",
      "tensor(0.2863)\n",
      "tensor(0.4777)\n",
      "tensor(0.2213)\n",
      "tensor(0.4066)\n",
      "tensor(0.2385)\n",
      "tensor(0.3042)\n",
      "tensor(0.3306)\n",
      "tensor(0.5832)\n",
      "tensor(0.1603)\n",
      "tensor(0.2238)\n",
      "tensor(0.3910)\n",
      "tensor(0.1451)\n",
      "tensor(0.3409)\n",
      "tensor(0.2007)\n",
      "tensor(0.3672)\n",
      "tensor(0.1426)\n",
      "tensor(0.2429)\n",
      "tensor(0.1035)\n",
      "tensor(0.7259)\n",
      "tensor(0.3802)\n",
      "tensor(0.4275)\n",
      "tensor(0.2421)\n",
      "tensor(0.3400)\n",
      "tensor(0.2320)\n",
      "tensor(0.2504)\n",
      "tensor(0.3109)\n",
      "tensor(1.00000e-02 *\n",
      "       9.7002)\n",
      "tensor(0.5165)\n",
      "tensor(0.2895)\n",
      "tensor(0.2405)\n",
      "tensor(1.00000e-02 *\n",
      "       8.5075)\n",
      "tensor(0.4782)\n",
      "tensor(0.3038)\n",
      "tensor(0.4100)\n",
      "tensor(0.3779)\n",
      "tensor(0.3585)\n",
      "tensor(0.6322)\n",
      "tensor(0.3351)\n",
      "tensor(0.3160)\n",
      "tensor(0.1631)\n",
      "tensor(0.5097)\n",
      "tensor(0.5392)\n",
      "tensor(0.2932)\n",
      "tensor(0.9375)\n",
      "tensor(0.3924)\n",
      "tensor(0.1192)\n",
      "tensor(0.2559)\n",
      "tensor(0.2370)\n",
      "tensor(0.4248)\n",
      "tensor(1.7801)\n",
      "tensor(0.2464)\n",
      "tensor(0.2911)\n",
      "tensor(0.2792)\n",
      "tensor(0.4333)\n",
      "tensor(0.2573)\n",
      "tensor(0.5057)\n",
      "tensor(0.3906)\n",
      "tensor(0.1020)\n",
      "tensor(0.2889)\n",
      "tensor(0.1676)\n",
      "tensor(0.2817)\n",
      "tensor(0.2144)\n",
      "tensor(0.2139)\n",
      "tensor(0.6464)\n",
      "tensor(0.4086)\n",
      "tensor(0.2727)\n",
      "tensor(0.1409)\n",
      "tensor(0.1823)\n",
      "tensor(0.2820)\n",
      "tensor(0.1913)\n",
      "tensor(1.00000e-02 *\n",
      "       9.1647)\n",
      "tensor(0.2274)\n",
      "tensor(0.4083)\n",
      "tensor(0.1747)\n",
      "tensor(0.1474)\n",
      "tensor(0.3561)\n",
      "tensor(0.2368)\n",
      "tensor(0.3117)\n",
      "tensor(0.3763)\n",
      "tensor(0.2639)\n",
      "tensor(0.3054)\n",
      "tensor(0.2701)\n",
      "tensor(0.2520)\n",
      "tensor(0.3672)\n",
      "tensor(0.4214)\n",
      "tensor(0.2540)\n",
      "tensor(0.2901)\n",
      "tensor(0.4156)\n"
     ]
    },
    {
     "name": "stdout",
     "output_type": "stream",
     "text": [
      "tensor(0.4120)\n",
      "tensor(0.1694)\n",
      "tensor(0.2026)\n",
      "tensor(0.1776)\n",
      "tensor(0.2100)\n",
      "tensor(0.5202)\n",
      "tensor(0.1875)\n",
      "tensor(0.3224)\n",
      "tensor(0.4095)\n",
      "tensor(0.4967)\n",
      "tensor(0.2951)\n",
      "tensor(0.1621)\n",
      "tensor(0.2930)\n",
      "tensor(0.3307)\n",
      "tensor(0.3247)\n",
      "tensor(0.2887)\n",
      "tensor(0.4053)\n",
      "tensor(0.1080)\n",
      "tensor(0.5454)\n",
      "tensor(0.2760)\n",
      "tensor(0.1696)\n",
      "tensor(0.4201)\n",
      "tensor(0.4230)\n",
      "tensor(0.2505)\n",
      "tensor(0.2385)\n",
      "tensor(0.4282)\n",
      "tensor(0.3825)\n",
      "tensor(0.2174)\n",
      "tensor(0.1708)\n",
      "tensor(0.2477)\n",
      "tensor(0.2716)\n",
      "tensor(0.3609)\n",
      "tensor(0.3956)\n",
      "tensor(0.1931)\n",
      "tensor(0.1605)\n",
      "tensor(0.4027)\n",
      "tensor(0.2431)\n",
      "tensor(0.3180)\n",
      "tensor(0.2137)\n",
      "tensor(0.2541)\n",
      "tensor(0.2458)\n",
      "tensor(0.3062)\n",
      "tensor(0.4105)\n",
      "tensor(0.1180)\n",
      "tensor(0.1758)\n",
      "tensor(0.2409)\n",
      "tensor(0.1952)\n",
      "tensor(0.3138)\n",
      "tensor(0.2935)\n",
      "tensor(1.00000e-02 *\n",
      "       7.8466)\n",
      "tensor(0.3915)\n",
      "tensor(0.4862)\n",
      "tensor(0.4506)\n",
      "tensor(0.1587)\n",
      "tensor(0.2384)\n",
      "tensor(0.3061)\n",
      "tensor(0.1811)\n",
      "tensor(0.1037)\n",
      "tensor(0.2200)\n",
      "tensor(0.1399)\n",
      "tensor(0.3863)\n",
      "tensor(0.2004)\n",
      "tensor(0.3853)\n",
      "tensor(0.2993)\n",
      "tensor(0.3748)\n",
      "tensor(1.00000e-02 *\n",
      "       5.2138)\n",
      "tensor(0.2148)\n",
      "tensor(0.1518)\n",
      "tensor(0.4345)\n",
      "tensor(0.4419)\n",
      "tensor(0.3145)\n",
      "tensor(0.3235)\n",
      "tensor(0.4347)\n",
      "tensor(0.2491)\n",
      "tensor(0.3003)\n",
      "tensor(0.1518)\n",
      "tensor(0.3733)\n",
      "tensor(1.00000e-02 *\n",
      "       6.6591)\n",
      "tensor(0.1167)\n",
      "tensor(0.2765)\n",
      "tensor(0.4520)\n",
      "tensor(0.2049)\n",
      "tensor(0.1127)\n",
      "tensor(1.00000e-02 *\n",
      "       8.0010)\n",
      "tensor(0.2674)\n",
      "tensor(0.1251)\n",
      "tensor(0.1350)\n",
      "tensor(0.1729)\n",
      "tensor(0.1533)\n",
      "tensor(0.1795)\n",
      "tensor(0.2569)\n",
      "tensor(0.1956)\n",
      "tensor(0.1845)\n",
      "tensor(0.1255)\n",
      "tensor(0.3536)\n",
      "tensor(0.3850)\n",
      "tensor(0.4628)\n",
      "tensor(0.3378)\n",
      "tensor(0.2052)\n",
      "tensor(0.2966)\n",
      "tensor(0.4015)\n",
      "tensor(0.4190)\n",
      "tensor(0.4084)\n",
      "tensor(0.3338)\n",
      "tensor(0.1570)\n",
      "tensor(0.3334)\n",
      "tensor(0.2088)\n",
      "tensor(0.3596)\n",
      "tensor(0.3310)\n",
      "tensor(1.00000e-02 *\n",
      "       9.6919)\n",
      "tensor(0.1497)\n",
      "tensor(0.3535)\n",
      "tensor(0.1727)\n",
      "tensor(0.2549)\n",
      "tensor(0.2929)\n",
      "tensor(0.4969)\n",
      "tensor(0.3052)\n",
      "tensor(0.2877)\n",
      "tensor(0.3251)\n",
      "tensor(0.2125)\n",
      "tensor(0.5720)\n",
      "tensor(0.1909)\n",
      "tensor(0.1257)\n",
      "tensor(0.1969)\n",
      "tensor(0.2750)\n",
      "tensor(0.4539)\n",
      "tensor(0.2533)\n",
      "tensor(1.00000e-02 *\n",
      "       9.4417)\n",
      "tensor(0.3580)\n",
      "tensor(0.5440)\n",
      "tensor(0.6730)\n",
      "tensor(0.3150)\n",
      "tensor(0.2334)\n",
      "tensor(0.1274)\n",
      "tensor(0.2248)\n",
      "tensor(0.1600)\n",
      "tensor(0.2358)\n",
      "tensor(0.2753)\n",
      "tensor(0.2677)\n",
      "tensor(0.2088)\n",
      "tensor(0.5225)\n",
      "tensor(1.00000e-02 *\n",
      "       4.6448)\n",
      "tensor(0.2141)\n",
      "tensor(0.1903)\n",
      "tensor(0.3264)\n",
      "tensor(0.2999)\n",
      "tensor(0.2530)\n",
      "tensor(0.2080)\n",
      "tensor(0.4459)\n",
      "tensor(0.1481)\n",
      "tensor(0.2214)\n",
      "tensor(0.4487)\n",
      "tensor(0.2433)\n",
      "tensor(0.1782)\n",
      "tensor(0.2733)\n",
      "tensor(1.00000e-02 *\n",
      "       7.5504)\n",
      "tensor(0.2207)\n",
      "tensor(0.1858)\n",
      "tensor(0.3390)\n",
      "tensor(0.2079)\n",
      "tensor(0.1072)\n",
      "tensor(0.2279)\n",
      "tensor(0.2433)\n",
      "tensor(0.4080)\n",
      "tensor(0.1192)\n",
      "tensor(0.1087)\n",
      "tensor(0.1179)\n",
      "tensor(0.1318)\n",
      "tensor(0.1831)\n",
      "tensor(0.3078)\n",
      "tensor(0.1583)\n",
      "tensor(0.2843)\n",
      "tensor(0.2713)\n",
      "tensor(1.00000e-02 *\n",
      "       7.3946)\n",
      "tensor(0.2684)\n",
      "tensor(0.1652)\n",
      "tensor(0.2169)\n",
      "tensor(2.6934)\n",
      "tensor(0.1701)\n",
      "tensor(0.8666)\n",
      "tensor(0.3797)\n",
      "tensor(0.4253)\n",
      "tensor(0.2577)\n",
      "tensor(0.2335)\n",
      "tensor(0.1891)\n",
      "tensor(0.1143)\n",
      "tensor(0.1616)\n",
      "tensor(0.3733)\n",
      "tensor(0.3163)\n",
      "tensor(0.3358)\n",
      "tensor(0.3420)\n",
      "tensor(0.4055)\n",
      "tensor(0.5028)\n",
      "tensor(1.00000e-02 *\n",
      "       9.2911)\n",
      "tensor(0.2255)\n",
      "tensor(0.4099)\n",
      "tensor(0.3525)\n",
      "tensor(0.3376)\n",
      "tensor(0.1124)\n",
      "tensor(0.1422)\n",
      "tensor(0.2082)\n",
      "tensor(0.3093)\n",
      "tensor(0.3980)\n",
      "tensor(0.1231)\n",
      "tensor(0.2383)\n",
      "tensor(1.00000e-02 *\n",
      "       8.9457)\n",
      "tensor(0.7446)\n",
      "tensor(0.3580)\n",
      "tensor(0.3998)\n",
      "tensor(0.3245)\n",
      "tensor(0.2884)\n",
      "tensor(0.3961)\n",
      "tensor(0.3093)\n",
      "tensor(0.2814)\n",
      "tensor(0.3333)\n"
     ]
    },
    {
     "ename": "KeyboardInterrupt",
     "evalue": "",
     "output_type": "error",
     "traceback": [
      "\u001b[0;31m---------------------------------------------------------------------------\u001b[0m",
      "\u001b[0;31mKeyboardInterrupt\u001b[0m                         Traceback (most recent call last)",
      "\u001b[0;32m<ipython-input-211-aec4ce7d4a0e>\u001b[0m in \u001b[0;36m<module>\u001b[0;34m()\u001b[0m\n\u001b[1;32m     12\u001b[0m     \u001b[0mprint\u001b[0m\u001b[0;34m(\u001b[0m\u001b[0merr\u001b[0m\u001b[0;34m)\u001b[0m\u001b[0;34m\u001b[0m\u001b[0m\n\u001b[1;32m     13\u001b[0m     \u001b[0;31m#update the weights in accordance with the backpropagation\u001b[0m\u001b[0;34m\u001b[0m\u001b[0;34m\u001b[0m\u001b[0m\n\u001b[0;32m---> 14\u001b[0;31m     \u001b[0moptimizer\u001b[0m\u001b[0;34m.\u001b[0m\u001b[0mstep\u001b[0m\u001b[0;34m(\u001b[0m\u001b[0;34m)\u001b[0m\u001b[0;34m\u001b[0m\u001b[0m\n\u001b[0m",
      "\u001b[0;32m~/.local/lib/python3.5/site-packages/torch/optim/adam.py\u001b[0m in \u001b[0;36mstep\u001b[0;34m(self, closure)\u001b[0m\n\u001b[1;32m    104\u001b[0m                 \u001b[0mstep_size\u001b[0m \u001b[0;34m=\u001b[0m \u001b[0mgroup\u001b[0m\u001b[0;34m[\u001b[0m\u001b[0;34m'lr'\u001b[0m\u001b[0;34m]\u001b[0m \u001b[0;34m*\u001b[0m \u001b[0mmath\u001b[0m\u001b[0;34m.\u001b[0m\u001b[0msqrt\u001b[0m\u001b[0;34m(\u001b[0m\u001b[0mbias_correction2\u001b[0m\u001b[0;34m)\u001b[0m \u001b[0;34m/\u001b[0m \u001b[0mbias_correction1\u001b[0m\u001b[0;34m\u001b[0m\u001b[0m\n\u001b[1;32m    105\u001b[0m \u001b[0;34m\u001b[0m\u001b[0m\n\u001b[0;32m--> 106\u001b[0;31m                 \u001b[0mp\u001b[0m\u001b[0;34m.\u001b[0m\u001b[0mdata\u001b[0m\u001b[0;34m.\u001b[0m\u001b[0maddcdiv_\u001b[0m\u001b[0;34m(\u001b[0m\u001b[0;34m-\u001b[0m\u001b[0mstep_size\u001b[0m\u001b[0;34m,\u001b[0m \u001b[0mexp_avg\u001b[0m\u001b[0;34m,\u001b[0m \u001b[0mdenom\u001b[0m\u001b[0;34m)\u001b[0m\u001b[0;34m\u001b[0m\u001b[0m\n\u001b[0m\u001b[1;32m    107\u001b[0m \u001b[0;34m\u001b[0m\u001b[0m\n\u001b[1;32m    108\u001b[0m         \u001b[0;32mreturn\u001b[0m \u001b[0mloss\u001b[0m\u001b[0;34m\u001b[0m\u001b[0m\n",
      "\u001b[0;31mKeyboardInterrupt\u001b[0m: "
     ]
    }
   ],
   "source": [
    "for _ in range(epoch):\n",
    "    for i,(data,label) in enumerate(loader):\n",
    "        #set the gradients to 0\n",
    "        optimizer.zero_grad()\n",
    "        #reshape data\n",
    "        data = data.view(n_batch,28*28)\n",
    "        #predict the labels for the inputs\n",
    "        pred_label = network(data)\n",
    "        #calculate the loss between the predicted and true labels\n",
    "        err =  loss(pred_label,label)\n",
    "        #backpropagate to get the derivatives\n",
    "        err.backward()\n",
    "        print(err)\n",
    "        #update the weights in accordance with the backpropagation\n",
    "        optimizer.step()"
   ]
  },
  {
   "cell_type": "code",
   "execution_count": 212,
   "metadata": {},
   "outputs": [
    {
     "name": "stdout",
     "output_type": "stream",
     "text": [
      "0.923\n",
      "0.928\n",
      "0.931\n",
      "0.927\n",
      "0.898\n",
      "0.927\n",
      "0.916\n",
      "0.919\n",
      "0.904\n",
      "0.912\n"
     ]
    }
   ],
   "source": [
    "for i,(data,label) in enumerate(test_loader):\n",
    "    data = data.view(n_batch_test,28*28)\n",
    "    pred = network(data)\n",
    "    pred_labels = torch.argmax(pred,1)\n",
    "    a = pred_labels == label\n",
    "    print(torch.sum(a).numpy()/n_batch_test)\n",
    "\n"
   ]
  },
  {
   "cell_type": "markdown",
   "metadata": {},
   "source": [
    "# Keras implementation"
   ]
  },
  {
   "cell_type": "code",
   "execution_count": 1,
   "metadata": {},
   "outputs": [
    {
     "name": "stderr",
     "output_type": "stream",
     "text": [
      "Using TensorFlow backend.\n"
     ]
    }
   ],
   "source": [
    "import numpy as np\n",
    "import pandas as pd\n",
    "import matplotlib.pyplot as plt\n",
    "import keras\n",
    "from keras.models import Sequential\n",
    "from keras.layers import Dense,Dropout\n",
    "from keras.layers.normalization import BatchNormalization\n",
    "from sklearn.model_selection import train_test_split"
   ]
  },
  {
   "cell_type": "markdown",
   "metadata": {},
   "source": [
    "Keras is a high level API used to construct different neural networks. Users are allowed to use different deep learning libaraies as backend (The actual code that runs the model and computation), such as TensorFlow, CNTK, or Theano.  It is a more straight-forward and user friendly API compared to Tensorflow (without the sessions, placeholder etc). "
   ]
  },
  {
   "cell_type": "code",
   "execution_count": 2,
   "metadata": {},
   "outputs": [],
   "source": [
    "\n"
   ]
  },
  {
   "cell_type": "markdown",
   "metadata": {},
   "source": [
    "## Import Dataset\n",
    "The dataset we are going to use today , MNIST, is one of the standard dataset commonly used for branchmarking, and thus Keras has created dedicated classes to import these standard datasets. \n",
    "There are other commonly used datasets, you can find them here:https://keras.io/datasets/"
   ]
  },
  {
   "cell_type": "code",
   "execution_count": 3,
   "metadata": {},
   "outputs": [],
   "source": [
    "# Keras has made it into a class\n",
    "from keras.datasets import mnist\n",
    "## separate data into training set and test set.\n",
    "(x_train, y_train), (x_test, y_test) = mnist.load_data()"
   ]
  },
  {
   "cell_type": "code",
   "execution_count": 4,
   "metadata": {},
   "outputs": [
    {
     "name": "stdout",
     "output_type": "stream",
     "text": [
      "Training set: (60000, 28, 28) Training Label: (60000,)\n",
      "Test set: (10000, 28, 28) Test Label: (10000,)\n"
     ]
    }
   ],
   "source": [
    "#lets inspect the shape of each component:\n",
    "print(\"Training set:\",x_train.shape,\"Training Label:\",y_train.shape)\n",
    "print(\"Test set:\",x_test.shape,\"Test Label:\",y_test.shape)"
   ]
  },
  {
   "cell_type": "markdown",
   "metadata": {},
   "source": [
    "The shape of each train and test set tells us how many 28x28 images are used for training and test, each images will have their own corresponding *labels*."
   ]
  },
  {
   "cell_type": "markdown",
   "metadata": {},
   "source": [
    "## Normalise the data\n",
    "Neural Network works better when the data is normalised. The idea is to put every features (input data into a common scale). It is especially important when the input data has different ranges of values. There are two main reasons for this technique:\n",
    "1. Un-normalised data will cause the gradient to oscillate back and forth, and the neural network will end up taking longer time to complete the training\n",
    "The power of neural network relies on its ability to adjust weights, such that it can get closer to the optimum vlaue. The gradient computed at each iteration served as a guiding light for the Neural Network, so that it knows which direction it should move in order to get to the global max/min.\n",
    "2. Features with higher range (such as income as compared to age), will dominate the learning as it will have the highest variation when we change the weight. Normalising the features can put every features on the same ground and thus each of them will be considered equally.\n",
    "\n",
    "One of the most common normalisation techniques is to normalise the feature range to [0,1]. \n",
    "$$y = \\frac{x - x_{min}}{x_{max}-x_{min}}$$"
   ]
  },
  {
   "cell_type": "code",
   "execution_count": 5,
   "metadata": {},
   "outputs": [],
   "source": [
    "x_train = (x_train - x_train.min())/(x_train.max() - x_train.min())\n",
    "x_test = (x_test - x_test.min())/(x_test.max() - x_test.min())"
   ]
  },
  {
   "cell_type": "code",
   "execution_count": 6,
   "metadata": {},
   "outputs": [
    {
     "data": {
      "text/plain": [
       "(1.0, 0.0, 1.0, 0.0)"
      ]
     },
     "execution_count": 6,
     "metadata": {},
     "output_type": "execute_result"
    }
   ],
   "source": [
    "## check the maximum and minimum:\n",
    "x_train.max(),x_train.min(),x_test.max(),x_test.min()"
   ]
  },
  {
   "cell_type": "markdown",
   "metadata": {},
   "source": [
    "## Prepare the dataformat for Keras"
   ]
  },
  {
   "cell_type": "code",
   "execution_count": 7,
   "metadata": {},
   "outputs": [],
   "source": [
    "x_train = x_train.reshape(60000, 28*28)\n",
    "x_test = x_test.reshape(10000, 28*28)\n",
    "## turn them into one-hot vector\n",
    "y_train = keras.utils.to_categorical(y_train, num_classes)\n",
    "y_test = keras.utils.to_categorical(y_test, num_classes)\n",
    "#further divides training data into training and validation data\n",
    "X_train, X_val, Y_train, Y_val = train_test_split(x_train, y_train, test_size = 0.1, random_state=42)"
   ]
  },
  {
   "cell_type": "code",
   "execution_count": 8,
   "metadata": {},
   "outputs": [
    {
     "name": "stdout",
     "output_type": "stream",
     "text": [
      "[0. 1. 0. 0. 0. 0. 0. 0. 0. 0.]\n"
     ]
    },
    {
     "data": {
      "image/png": "[encoded data removed]",
      "text/plain": [
       "<Figure size 432x288 with 1 Axes>"
      ]
     },
     "metadata": {},
     "output_type": "display_data"
    }
   ],
   "source": [
    "plt.imshow(X_train[0].reshape(28,28))\n",
    "print(Y_train[0])"
   ]
  },
  {
   "cell_type": "code",
   "execution_count": 9,
   "metadata": {},
   "outputs": [
    {
     "name": "stdout",
     "output_type": "stream",
     "text": [
      "WARNING:tensorflow:From /Users/gordonyip/anaconda2/envs/py36/lib/python3.6/site-packages/tensorflow/python/framework/op_def_library.py:263: colocate_with (from tensorflow.python.framework.ops) is deprecated and will be removed in a future version.\n",
      "Instructions for updating:\n",
      "Colocations handled automatically by placer.\n"
     ]
    }
   ],
   "source": [
    "model = Sequential()\n",
    "model.add(Dense(1024, activation='relu'))\n",
    "model.add(Dense(512, activation='relu'))\n",
    "model.add(Dense(128, activation='relu'))\n",
    "model.add(Dense(num_classes, activation='softmax'))\n",
    "\n",
    "model.compile(loss=keras.losses.categorical_crossentropy,\n",
    "              optimizer=keras.optimizers.Adam(lr = learning_rate ),\n",
    "              metrics=['accuracy'])\n"
   ]
  },
  {
   "cell_type": "markdown",
   "metadata": {},
   "source": [
    "## Construct and Run"
   ]
  },
  {
   "cell_type": "code",
   "execution_count": 10,
   "metadata": {},
   "outputs": [
    {
     "name": "stdout",
     "output_type": "stream",
     "text": [
      "WARNING:tensorflow:From /Users/gordonyip/anaconda2/envs/py36/lib/python3.6/site-packages/tensorflow/python/ops/math_ops.py:3066: to_int32 (from tensorflow.python.ops.math_ops) is deprecated and will be removed in a future version.\n",
      "Instructions for updating:\n",
      "Use tf.cast instead.\n",
      "Train on 54000 samples, validate on 6000 samples\n",
      "Epoch 1/5\n",
      "54000/54000 [==============================] - 10s 189us/step - loss: 0.2208 - acc: 0.9327 - val_loss: 0.1176 - val_acc: 0.9653\n",
      "Epoch 2/5\n",
      "54000/54000 [==============================] - 10s 193us/step - loss: 0.0989 - acc: 0.9722 - val_loss: 0.1009 - val_acc: 0.9747\n",
      "Epoch 3/5\n",
      "54000/54000 [==============================] - 11s 198us/step - loss: 0.0757 - acc: 0.9793 - val_loss: 0.1064 - val_acc: 0.9780\n",
      "Epoch 4/5\n",
      "54000/54000 [==============================] - 10s 189us/step - loss: 0.0658 - acc: 0.9839 - val_loss: 0.1155 - val_acc: 0.9772\n",
      "Epoch 5/5\n",
      "54000/54000 [==============================] - 14s 265us/step - loss: 0.0575 - acc: 0.9862 - val_loss: 0.1708 - val_acc: 0.9690\n"
     ]
    }
   ],
   "source": [
    "history = model.fit(X_train,Y_train,batch_size=n_batch,\n",
    "                                     epochs=epochs,\n",
    "                                     verbose=1,\n",
    "                                     validation_data=(X_val, Y_val), shuffle=True)"
   ]
  },
  {
   "cell_type": "markdown",
   "metadata": {},
   "source": [
    "## Evaluate Performance on the test data"
   ]
  },
  {
   "cell_type": "code",
   "execution_count": 11,
   "metadata": {},
   "outputs": [
    {
     "name": "stdout",
     "output_type": "stream",
     "text": [
      "Test loss: 0.17646011527512645\n",
      "Test accuracy: 0.9656\n"
     ]
    }
   ],
   "source": [
    "score = model.evaluate(x_test, y_test, verbose=0)\n",
    "print('Test loss:', score[0])\n",
    "print('Test accuracy:', score[1])"
   ]
  },
  {
   "cell_type": "markdown",
   "metadata": {},
   "source": [
    "## Tensorboard\n",
    "\n",
    "In the last section we have used Tensorboard to look at some simple computation graph. Keras provided a simple functionality to incorporate our model into Tensorboard. It can be used to monitor the training process, the entire architecture of the deep learning model and their associated weights, and many more: check out this link:\n",
    "https://keras.io/callbacks/"
   ]
  },
  {
   "cell_type": "code",
   "execution_count": 12,
   "metadata": {},
   "outputs": [
    {
     "name": "stdout",
     "output_type": "stream",
     "text": [
      "Train on 54000 samples, validate on 6000 samples\n",
      "Epoch 1/5\n",
      "54000/54000 [==============================] - 10s 192us/step - loss: 0.0530 - acc: 0.9880 - val_loss: 0.1204 - val_acc: 0.9808\n",
      "Epoch 2/5\n",
      "54000/54000 [==============================] - 10s 193us/step - loss: 0.0508 - acc: 0.9890 - val_loss: 0.1285 - val_acc: 0.9810\n",
      "Epoch 3/5\n",
      "54000/54000 [==============================] - 10s 183us/step - loss: 0.0501 - acc: 0.9896 - val_loss: 0.1418 - val_acc: 0.9765\n",
      "Epoch 4/5\n",
      "54000/54000 [==============================] - 10s 191us/step - loss: 0.0483 - acc: 0.9905 - val_loss: 0.1551 - val_acc: 0.9765\n",
      "Epoch 5/5\n",
      "54000/54000 [==============================] - 15s 275us/step - loss: 0.0481 - acc: 0.9914 - val_loss: 0.1550 - val_acc: 0.9803\n"
     ]
    }
   ],
   "source": [
    "## initialise tensorboard call back object\n",
    "csvlogger = keras.callbacks.CSVLogger(\"./Graph/training_log.csv\", separator=',', append=False)\n",
    "\n",
    "\n",
    "tbCallBack = keras.callbacks.TensorBoard(log_dir='./Graph', \n",
    "                                         histogram_freq=1, \n",
    "                                         write_graph=True, \n",
    "                                         write_images=False,update_freq='epoch',batch_size=batch_size)\n",
    "\n",
    "history = model.fit(X_train,Y_train,batch_size=n_batch,\n",
    "                                     epochs=epochs,\n",
    "                                     verbose=1,\n",
    "                                     validation_data=(X_val, Y_val), shuffle=True,callbacks=[tbCallBack,csvlogger])"
   ]
  },
  {
   "cell_type": "markdown",
   "metadata": {},
   "source": [
    "# What about Tensorflow?"
   ]
  },
  {
   "cell_type": "markdown",
   "metadata": {},
   "source": [
    "\n",
    "We have been talking about PyTorch, Keras etc, but where is Tensorflow ?\n",
    "Tensorflow implementation is actually less straight forward. As you have seen in the previous seminar, to run a deep learning model we will need to the following:\n",
    "1. Define the variables (placeholders) for any input to the computational graph\n",
    "2. Define the computational graph ( in this case, our deep learning model)\n",
    "3. Define the loss function and optimizer\n",
    "4. Start a session and train it"
   ]
  },
  {
   "cell_type": "markdown",
   "metadata": {},
   "source": [
    "## Import module"
   ]
  },
  {
   "cell_type": "code",
   "execution_count": 13,
   "metadata": {},
   "outputs": [],
   "source": [
    "import tensorflow as tf\n",
    "## Tensorflow has also created a module for MNIST dataset\n",
    "from tensorflow.examples.tutorials.mnist import input_data"
   ]
  },
  {
   "cell_type": "code",
   "execution_count": 14,
   "metadata": {},
   "outputs": [
    {
     "name": "stdout",
     "output_type": "stream",
     "text": [
      "WARNING:tensorflow:From <ipython-input-14-ce28c7c86e34>:2: read_data_sets (from tensorflow.contrib.learn.python.learn.datasets.mnist) is deprecated and will be removed in a future version.\n",
      "Instructions for updating:\n",
      "Please use alternatives such as official/mnist/dataset.py from tensorflow/models.\n",
      "WARNING:tensorflow:From /Users/gordonyip/anaconda2/envs/py36/lib/python3.6/site-packages/tensorflow/contrib/learn/python/learn/datasets/mnist.py:260: maybe_download (from tensorflow.contrib.learn.python.learn.datasets.base) is deprecated and will be removed in a future version.\n",
      "Instructions for updating:\n",
      "Please write your own downloading logic.\n",
      "WARNING:tensorflow:From /Users/gordonyip/anaconda2/envs/py36/lib/python3.6/site-packages/tensorflow/contrib/learn/python/learn/datasets/mnist.py:262: extract_images (from tensorflow.contrib.learn.python.learn.datasets.mnist) is deprecated and will be removed in a future version.\n",
      "Instructions for updating:\n",
      "Please use tf.data to implement this functionality.\n",
      "Extracting /tmp/data/train-images-idx3-ubyte.gz\n",
      "WARNING:tensorflow:From /Users/gordonyip/anaconda2/envs/py36/lib/python3.6/site-packages/tensorflow/contrib/learn/python/learn/datasets/mnist.py:267: extract_labels (from tensorflow.contrib.learn.python.learn.datasets.mnist) is deprecated and will be removed in a future version.\n",
      "Instructions for updating:\n",
      "Please use tf.data to implement this functionality.\n",
      "Extracting /tmp/data/train-labels-idx1-ubyte.gz\n",
      "WARNING:tensorflow:From /Users/gordonyip/anaconda2/envs/py36/lib/python3.6/site-packages/tensorflow/contrib/learn/python/learn/datasets/mnist.py:110: dense_to_one_hot (from tensorflow.contrib.learn.python.learn.datasets.mnist) is deprecated and will be removed in a future version.\n",
      "Instructions for updating:\n",
      "Please use tf.one_hot on tensors.\n",
      "Extracting /tmp/data/t10k-images-idx3-ubyte.gz\n",
      "Extracting /tmp/data/t10k-labels-idx1-ubyte.gz\n",
      "WARNING:tensorflow:From /Users/gordonyip/anaconda2/envs/py36/lib/python3.6/site-packages/tensorflow/contrib/learn/python/learn/datasets/mnist.py:290: DataSet.__init__ (from tensorflow.contrib.learn.python.learn.datasets.mnist) is deprecated and will be removed in a future version.\n",
      "Instructions for updating:\n",
      "Please use alternatives such as official/mnist/dataset.py from tensorflow/models.\n"
     ]
    }
   ],
   "source": [
    "## load the data, set one hot to True, similar to what we did in keras.utils.to_categorical\n",
    "mnist = input_data.read_data_sets(\"/tmp/data/\", one_hot = True)\n",
    "\n"
   ]
  },
  {
   "cell_type": "markdown",
   "metadata": {},
   "source": [
    "## Hyperparameters"
   ]
  },
  {
   "cell_type": "code",
   "execution_count": 15,
   "metadata": {},
   "outputs": [],
   "source": [
    "## number of nodes for different hidden layers\n",
    "n_nodes_hl1 = 1024\n",
    "n_nodes_hl2 = 512\n",
    "n_nodes_hl3 = 128\n"
   ]
  },
  {
   "cell_type": "code",
   "execution_count": 16,
   "metadata": {},
   "outputs": [],
   "source": [
    "## Define our variables. 784 is the flatten version of the 28x28 image\n",
    "input_data = tf.placeholder('float', [None, 28*28])\n",
    "target = tf.placeholder('float')\n",
    "\n"
   ]
  },
  {
   "cell_type": "markdown",
   "metadata": {},
   "source": [
    "## Define the Neural Network Model"
   ]
  },
  {
   "cell_type": "code",
   "execution_count": 17,
   "metadata": {},
   "outputs": [],
   "source": [
    "def neural_network_model(data):\n",
    "    #initialise weights for different hidden layers\n",
    "    hidden_1_layer = {'weights':tf.Variable(tf.random_normal([28*28, n_nodes_hl1])),\n",
    "                      'biases':tf.Variable(tf.random_normal([n_nodes_hl1]))}\n",
    "\n",
    "    hidden_2_layer = {'weights':tf.Variable(tf.random_normal([n_nodes_hl1, n_nodes_hl2])),\n",
    "                      'biases':tf.Variable(tf.random_normal([n_nodes_hl2]))}\n",
    "\n",
    "    hidden_3_layer = {'weights':tf.Variable(tf.random_normal([n_nodes_hl2, n_nodes_hl3])),\n",
    "                      'biases':tf.Variable(tf.random_normal([n_nodes_hl3]))}\n",
    "\n",
    "    output_layer = {'weights':tf.Variable(tf.random_normal([n_nodes_hl3, n_classes])),\n",
    "                    'biases':tf.Variable(tf.random_normal([n_classes])),}\n",
    "\n",
    "\n",
    "    layer1 = tf.add(tf.matmul(data,hidden_1_layer['weights']), hidden_1_layer['biases'])\n",
    "    layer1 = tf.nn.relu(layer1)\n",
    "\n",
    "    layer2 = tf.add(tf.matmul(layer1,hidden_2_layer['weights']), hidden_2_layer['biases'])\n",
    "    layer2 = tf.nn.relu(layer2)\n",
    "\n",
    "    layer3 = tf.add(tf.matmul(layer2,hidden_3_layer['weights']), hidden_3_layer['biases'])\n",
    "    layer3 = tf.nn.relu(layer3)\n",
    "\n",
    "    output = tf.matmul(layer3,output_layer['weights']) + output_layer['biases']\n",
    "\n",
    "    return output\n",
    "\n"
   ]
  },
  {
   "cell_type": "code",
   "execution_count": 18,
   "metadata": {},
   "outputs": [
    {
     "name": "stdout",
     "output_type": "stream",
     "text": [
      "WARNING:tensorflow:From <ipython-input-18-9ac9adf35526>:5: softmax_cross_entropy_with_logits (from tensorflow.python.ops.nn_ops) is deprecated and will be removed in a future version.\n",
      "Instructions for updating:\n",
      "\n",
      "Future major versions of TensorFlow will allow gradients to flow\n",
      "into the labels input on backprop by default.\n",
      "\n",
      "See `tf.nn.softmax_cross_entropy_with_logits_v2`.\n",
      "\n",
      "Epoch 0 completed out of 10 loss: 1190894.051208496\n",
      "Epoch 1 completed out of 10 loss: 266016.14178848267\n",
      "Epoch 2 completed out of 10 loss: 146498.94071388245\n",
      "Epoch 3 completed out of 10 loss: 87806.59017595649\n",
      "Epoch 4 completed out of 10 loss: 55577.2649423033\n",
      "Epoch 5 completed out of 10 loss: 33783.09675142169\n",
      "Epoch 6 completed out of 10 loss: 23150.137020707414\n",
      "Epoch 7 completed out of 10 loss: 16939.23844775525\n",
      "Epoch 8 completed out of 10 loss: 16459.750460241543\n",
      "Epoch 9 completed out of 10 loss: 13738.071334600449\n",
      "Accuracy: 0.9533\n"
     ]
    }
   ],
   "source": [
    "prediction = neural_network_model(input_data)\n",
    "# OLD VERSION:\n",
    "#cost = tf.reduce_mean( tf.nn.softmax_cross_entropy_with_logits(prediction,y) )\n",
    "# NEW:\n",
    "cost = tf.reduce_mean( tf.nn.softmax_cross_entropy_with_logits(logits=prediction, labels=target) )\n",
    "optimizer = tf.train.AdamOptimizer(learning_rate=learning_rate).minimize(cost)\n",
    "\n",
    "with tf.Session() as sess:\n",
    "    # OLD:\n",
    "    #sess.run(tf.initialize_all_variables())\n",
    "    # NEW:\n",
    "    sess.run(tf.global_variables_initializer())\n",
    "    ## epochs, number of times NN will see the data\n",
    "    for epoch in range(epochs):\n",
    "        epoch_loss = 0\n",
    "        for _ in range(int(mnist.train.num_examples/n_batch)):\n",
    "            epoch_x, epoch_y = mnist.train.next_batch(n_batch)\n",
    "            _, c = sess.run([optimizer, cost], feed_dict={input_data: epoch_x, target: epoch_y})\n",
    "            epoch_loss += c\n",
    "\n",
    "        print('Epoch', epoch, 'completed out of',hm_epochs,'loss:',epoch_loss)\n",
    "\n",
    "    correct = tf.equal(tf.argmax(prediction, 1), tf.argmax(target, 1))\n",
    "\n",
    "    accuracy = tf.reduce_mean(tf.cast(correct, 'float'))\n",
    "    print('Accuracy:',accuracy.eval({input_data:mnist.test.images, target:mnist.test.labels}))\n",
    "\n"
   ]
  },
  {
   "cell_type": "markdown",
   "metadata": {},
   "source": [
    "# Keras or Tensorflow? Why not both?"
   ]
  },
  {
   "cell_type": "markdown",
   "metadata": {},
   "source": [
    "## Tensorflow 2-Alpha\n",
    "\n",
    "Tensorflow 2 is a major update from the Tensforflow team. As quoted from the website, \"TensorFlow 2.0 focuses on simplicity and ease of use, with updates like eager execution, intuitive higher-level APIs, and flexible model building on any platform.\", lets have a look at the implementation from Tensorflow 2"
   ]
  },
  {
   "cell_type": "code",
   "execution_count": 214,
   "metadata": {
    "scrolled": true
   },
   "outputs": [
    {
     "name": "stdout",
     "output_type": "stream",
     "text": [
      "Epoch 1/5\n",
      " 6336/60000 [==>...........................] - ETA: 11s - loss: 0.7078 - acc: 0.7972"
     ]
    },
    {
     "ename": "KeyboardInterrupt",
     "evalue": "",
     "output_type": "error",
     "traceback": [
      "\u001b[0;31m---------------------------------------------------------------------------\u001b[0m",
      "\u001b[0;31mKeyboardInterrupt\u001b[0m                         Traceback (most recent call last)",
      "\u001b[0;32m<ipython-input-214-b960830623fd>\u001b[0m in \u001b[0;36m<module>\u001b[0;34m()\u001b[0m\n\u001b[1;32m     24\u001b[0m               metrics=['accuracy'])\n\u001b[1;32m     25\u001b[0m \u001b[0;34m\u001b[0m\u001b[0m\n\u001b[0;32m---> 26\u001b[0;31m \u001b[0mmodel\u001b[0m\u001b[0;34m.\u001b[0m\u001b[0mfit\u001b[0m\u001b[0;34m(\u001b[0m\u001b[0mx_train\u001b[0m\u001b[0;34m,\u001b[0m \u001b[0my_train\u001b[0m\u001b[0;34m,\u001b[0m \u001b[0mepochs\u001b[0m\u001b[0;34m=\u001b[0m\u001b[0;36m5\u001b[0m\u001b[0;34m)\u001b[0m\u001b[0;34m\u001b[0m\u001b[0m\n\u001b[0m\u001b[1;32m     27\u001b[0m \u001b[0;34m\u001b[0m\u001b[0m\n\u001b[1;32m     28\u001b[0m \u001b[0mmodel\u001b[0m\u001b[0;34m.\u001b[0m\u001b[0mevaluate\u001b[0m\u001b[0;34m(\u001b[0m\u001b[0mx_test\u001b[0m\u001b[0;34m,\u001b[0m \u001b[0my_test\u001b[0m\u001b[0;34m)\u001b[0m\u001b[0;34m\u001b[0m\u001b[0m\n",
      "\u001b[0;32m/usr/local/lib/python3.5/dist-packages/tensorflow/python/keras/_impl/keras/engine/training.py\u001b[0m in \u001b[0;36mfit\u001b[0;34m(self, x, y, batch_size, epochs, verbose, callbacks, validation_split, validation_data, shuffle, class_weight, sample_weight, initial_epoch, steps_per_epoch, validation_steps, **kwargs)\u001b[0m\n\u001b[1;32m   1214\u001b[0m           \u001b[0minitial_epoch\u001b[0m\u001b[0;34m=\u001b[0m\u001b[0minitial_epoch\u001b[0m\u001b[0;34m,\u001b[0m\u001b[0;34m\u001b[0m\u001b[0m\n\u001b[1;32m   1215\u001b[0m           \u001b[0msteps_per_epoch\u001b[0m\u001b[0;34m=\u001b[0m\u001b[0msteps_per_epoch\u001b[0m\u001b[0;34m,\u001b[0m\u001b[0;34m\u001b[0m\u001b[0m\n\u001b[0;32m-> 1216\u001b[0;31m           validation_steps=validation_steps)\n\u001b[0m\u001b[1;32m   1217\u001b[0m \u001b[0;34m\u001b[0m\u001b[0m\n\u001b[1;32m   1218\u001b[0m   def evaluate(self,\n",
      "\u001b[0;32m/usr/local/lib/python3.5/dist-packages/tensorflow/python/keras/_impl/keras/engine/training_arrays.py\u001b[0m in \u001b[0;36mfit_loop\u001b[0;34m(model, inputs, targets, sample_weights, batch_size, epochs, verbose, callbacks, val_inputs, val_targets, val_sample_weights, shuffle, callback_metrics, initial_epoch, steps_per_epoch, validation_steps)\u001b[0m\n\u001b[1;32m    243\u001b[0m           \u001b[0mins_batch\u001b[0m\u001b[0;34m[\u001b[0m\u001b[0mi\u001b[0m\u001b[0;34m]\u001b[0m \u001b[0;34m=\u001b[0m \u001b[0mins_batch\u001b[0m\u001b[0;34m[\u001b[0m\u001b[0mi\u001b[0m\u001b[0;34m]\u001b[0m\u001b[0;34m.\u001b[0m\u001b[0mtoarray\u001b[0m\u001b[0;34m(\u001b[0m\u001b[0;34m)\u001b[0m\u001b[0;34m\u001b[0m\u001b[0m\n\u001b[1;32m    244\u001b[0m \u001b[0;34m\u001b[0m\u001b[0m\n\u001b[0;32m--> 245\u001b[0;31m         \u001b[0mouts\u001b[0m \u001b[0;34m=\u001b[0m \u001b[0mf\u001b[0m\u001b[0;34m(\u001b[0m\u001b[0mins_batch\u001b[0m\u001b[0;34m)\u001b[0m\u001b[0;34m\u001b[0m\u001b[0m\n\u001b[0m\u001b[1;32m    246\u001b[0m         \u001b[0;32mif\u001b[0m \u001b[0;32mnot\u001b[0m \u001b[0misinstance\u001b[0m\u001b[0;34m(\u001b[0m\u001b[0mouts\u001b[0m\u001b[0;34m,\u001b[0m \u001b[0mlist\u001b[0m\u001b[0;34m)\u001b[0m\u001b[0;34m:\u001b[0m\u001b[0;34m\u001b[0m\u001b[0m\n\u001b[1;32m    247\u001b[0m           \u001b[0mouts\u001b[0m \u001b[0;34m=\u001b[0m \u001b[0;34m[\u001b[0m\u001b[0mouts\u001b[0m\u001b[0;34m]\u001b[0m\u001b[0;34m\u001b[0m\u001b[0m\n",
      "\u001b[0;32m/usr/local/lib/python3.5/dist-packages/tensorflow/python/keras/_impl/keras/backend.py\u001b[0m in \u001b[0;36m__call__\u001b[0;34m(self, inputs)\u001b[0m\n\u001b[1;32m   2822\u001b[0m     \u001b[0mfetches\u001b[0m \u001b[0;34m=\u001b[0m \u001b[0mself\u001b[0m\u001b[0;34m.\u001b[0m\u001b[0moutputs\u001b[0m \u001b[0;34m+\u001b[0m \u001b[0;34m[\u001b[0m\u001b[0mself\u001b[0m\u001b[0;34m.\u001b[0m\u001b[0mupdates_op\u001b[0m\u001b[0;34m]\u001b[0m \u001b[0;34m+\u001b[0m \u001b[0mself\u001b[0m\u001b[0;34m.\u001b[0m\u001b[0mfetches\u001b[0m\u001b[0;34m\u001b[0m\u001b[0m\n\u001b[1;32m   2823\u001b[0m     updated = session.run(\n\u001b[0;32m-> 2824\u001b[0;31m         fetches=fetches, feed_dict=feed_dict, **self.session_kwargs)\n\u001b[0m\u001b[1;32m   2825\u001b[0m     \u001b[0;32mreturn\u001b[0m \u001b[0mupdated\u001b[0m\u001b[0;34m[\u001b[0m\u001b[0;34m:\u001b[0m\u001b[0mlen\u001b[0m\u001b[0;34m(\u001b[0m\u001b[0mself\u001b[0m\u001b[0;34m.\u001b[0m\u001b[0moutputs\u001b[0m\u001b[0;34m)\u001b[0m\u001b[0;34m]\u001b[0m\u001b[0;34m\u001b[0m\u001b[0m\n\u001b[1;32m   2826\u001b[0m \u001b[0;34m\u001b[0m\u001b[0m\n",
      "\u001b[0;32m/usr/local/lib/python3.5/dist-packages/tensorflow/python/client/session.py\u001b[0m in \u001b[0;36mrun\u001b[0;34m(self, fetches, feed_dict, options, run_metadata)\u001b[0m\n\u001b[1;32m    898\u001b[0m     \u001b[0;32mtry\u001b[0m\u001b[0;34m:\u001b[0m\u001b[0;34m\u001b[0m\u001b[0m\n\u001b[1;32m    899\u001b[0m       result = self._run(None, fetches, feed_dict, options_ptr,\n\u001b[0;32m--> 900\u001b[0;31m                          run_metadata_ptr)\n\u001b[0m\u001b[1;32m    901\u001b[0m       \u001b[0;32mif\u001b[0m \u001b[0mrun_metadata\u001b[0m\u001b[0;34m:\u001b[0m\u001b[0;34m\u001b[0m\u001b[0m\n\u001b[1;32m    902\u001b[0m         \u001b[0mproto_data\u001b[0m \u001b[0;34m=\u001b[0m \u001b[0mtf_session\u001b[0m\u001b[0;34m.\u001b[0m\u001b[0mTF_GetBuffer\u001b[0m\u001b[0;34m(\u001b[0m\u001b[0mrun_metadata_ptr\u001b[0m\u001b[0;34m)\u001b[0m\u001b[0;34m\u001b[0m\u001b[0m\n",
      "\u001b[0;32m/usr/local/lib/python3.5/dist-packages/tensorflow/python/client/session.py\u001b[0m in \u001b[0;36m_run\u001b[0;34m(self, handle, fetches, feed_dict, options, run_metadata)\u001b[0m\n\u001b[1;32m   1133\u001b[0m     \u001b[0;32mif\u001b[0m \u001b[0mfinal_fetches\u001b[0m \u001b[0;32mor\u001b[0m \u001b[0mfinal_targets\u001b[0m \u001b[0;32mor\u001b[0m \u001b[0;34m(\u001b[0m\u001b[0mhandle\u001b[0m \u001b[0;32mand\u001b[0m \u001b[0mfeed_dict_tensor\u001b[0m\u001b[0;34m)\u001b[0m\u001b[0;34m:\u001b[0m\u001b[0;34m\u001b[0m\u001b[0m\n\u001b[1;32m   1134\u001b[0m       results = self._do_run(handle, final_targets, final_fetches,\n\u001b[0;32m-> 1135\u001b[0;31m                              feed_dict_tensor, options, run_metadata)\n\u001b[0m\u001b[1;32m   1136\u001b[0m     \u001b[0;32melse\u001b[0m\u001b[0;34m:\u001b[0m\u001b[0;34m\u001b[0m\u001b[0m\n\u001b[1;32m   1137\u001b[0m       \u001b[0mresults\u001b[0m \u001b[0;34m=\u001b[0m \u001b[0;34m[\u001b[0m\u001b[0;34m]\u001b[0m\u001b[0;34m\u001b[0m\u001b[0m\n",
      "\u001b[0;32m/usr/local/lib/python3.5/dist-packages/tensorflow/python/client/session.py\u001b[0m in \u001b[0;36m_do_run\u001b[0;34m(self, handle, target_list, fetch_list, feed_dict, options, run_metadata)\u001b[0m\n\u001b[1;32m   1314\u001b[0m     \u001b[0;32mif\u001b[0m \u001b[0mhandle\u001b[0m \u001b[0;32mis\u001b[0m \u001b[0;32mNone\u001b[0m\u001b[0;34m:\u001b[0m\u001b[0;34m\u001b[0m\u001b[0m\n\u001b[1;32m   1315\u001b[0m       return self._do_call(_run_fn, feeds, fetches, targets, options,\n\u001b[0;32m-> 1316\u001b[0;31m                            run_metadata)\n\u001b[0m\u001b[1;32m   1317\u001b[0m     \u001b[0;32melse\u001b[0m\u001b[0;34m:\u001b[0m\u001b[0;34m\u001b[0m\u001b[0m\n\u001b[1;32m   1318\u001b[0m       \u001b[0;32mreturn\u001b[0m \u001b[0mself\u001b[0m\u001b[0;34m.\u001b[0m\u001b[0m_do_call\u001b[0m\u001b[0;34m(\u001b[0m\u001b[0m_prun_fn\u001b[0m\u001b[0;34m,\u001b[0m \u001b[0mhandle\u001b[0m\u001b[0;34m,\u001b[0m \u001b[0mfeeds\u001b[0m\u001b[0;34m,\u001b[0m \u001b[0mfetches\u001b[0m\u001b[0;34m)\u001b[0m\u001b[0;34m\u001b[0m\u001b[0m\n",
      "\u001b[0;32m/usr/local/lib/python3.5/dist-packages/tensorflow/python/client/session.py\u001b[0m in \u001b[0;36m_do_call\u001b[0;34m(self, fn, *args)\u001b[0m\n\u001b[1;32m   1320\u001b[0m   \u001b[0;32mdef\u001b[0m \u001b[0m_do_call\u001b[0m\u001b[0;34m(\u001b[0m\u001b[0mself\u001b[0m\u001b[0;34m,\u001b[0m \u001b[0mfn\u001b[0m\u001b[0;34m,\u001b[0m \u001b[0;34m*\u001b[0m\u001b[0margs\u001b[0m\u001b[0;34m)\u001b[0m\u001b[0;34m:\u001b[0m\u001b[0;34m\u001b[0m\u001b[0m\n\u001b[1;32m   1321\u001b[0m     \u001b[0;32mtry\u001b[0m\u001b[0;34m:\u001b[0m\u001b[0;34m\u001b[0m\u001b[0m\n\u001b[0;32m-> 1322\u001b[0;31m       \u001b[0;32mreturn\u001b[0m \u001b[0mfn\u001b[0m\u001b[0;34m(\u001b[0m\u001b[0;34m*\u001b[0m\u001b[0margs\u001b[0m\u001b[0;34m)\u001b[0m\u001b[0;34m\u001b[0m\u001b[0m\n\u001b[0m\u001b[1;32m   1323\u001b[0m     \u001b[0;32mexcept\u001b[0m \u001b[0merrors\u001b[0m\u001b[0;34m.\u001b[0m\u001b[0mOpError\u001b[0m \u001b[0;32mas\u001b[0m \u001b[0me\u001b[0m\u001b[0;34m:\u001b[0m\u001b[0;34m\u001b[0m\u001b[0m\n\u001b[1;32m   1324\u001b[0m       \u001b[0mmessage\u001b[0m \u001b[0;34m=\u001b[0m \u001b[0mcompat\u001b[0m\u001b[0;34m.\u001b[0m\u001b[0mas_text\u001b[0m\u001b[0;34m(\u001b[0m\u001b[0me\u001b[0m\u001b[0;34m.\u001b[0m\u001b[0mmessage\u001b[0m\u001b[0;34m)\u001b[0m\u001b[0;34m\u001b[0m\u001b[0m\n",
      "\u001b[0;32m/usr/local/lib/python3.5/dist-packages/tensorflow/python/client/session.py\u001b[0m in \u001b[0;36m_run_fn\u001b[0;34m(feed_dict, fetch_list, target_list, options, run_metadata)\u001b[0m\n\u001b[1;32m   1305\u001b[0m       \u001b[0mself\u001b[0m\u001b[0;34m.\u001b[0m\u001b[0m_extend_graph\u001b[0m\u001b[0;34m(\u001b[0m\u001b[0;34m)\u001b[0m\u001b[0;34m\u001b[0m\u001b[0m\n\u001b[1;32m   1306\u001b[0m       return self._call_tf_sessionrun(\n\u001b[0;32m-> 1307\u001b[0;31m           options, feed_dict, fetch_list, target_list, run_metadata)\n\u001b[0m\u001b[1;32m   1308\u001b[0m \u001b[0;34m\u001b[0m\u001b[0m\n\u001b[1;32m   1309\u001b[0m     \u001b[0;32mdef\u001b[0m \u001b[0m_prun_fn\u001b[0m\u001b[0;34m(\u001b[0m\u001b[0mhandle\u001b[0m\u001b[0;34m,\u001b[0m \u001b[0mfeed_dict\u001b[0m\u001b[0;34m,\u001b[0m \u001b[0mfetch_list\u001b[0m\u001b[0;34m)\u001b[0m\u001b[0;34m:\u001b[0m\u001b[0;34m\u001b[0m\u001b[0m\n",
      "\u001b[0;32m/usr/local/lib/python3.5/dist-packages/tensorflow/python/client/session.py\u001b[0m in \u001b[0;36m_call_tf_sessionrun\u001b[0;34m(self, options, feed_dict, fetch_list, target_list, run_metadata)\u001b[0m\n\u001b[1;32m   1407\u001b[0m       return tf_session.TF_SessionRun_wrapper(\n\u001b[1;32m   1408\u001b[0m           \u001b[0mself\u001b[0m\u001b[0;34m.\u001b[0m\u001b[0m_session\u001b[0m\u001b[0;34m,\u001b[0m \u001b[0moptions\u001b[0m\u001b[0;34m,\u001b[0m \u001b[0mfeed_dict\u001b[0m\u001b[0;34m,\u001b[0m \u001b[0mfetch_list\u001b[0m\u001b[0;34m,\u001b[0m \u001b[0mtarget_list\u001b[0m\u001b[0;34m,\u001b[0m\u001b[0;34m\u001b[0m\u001b[0m\n\u001b[0;32m-> 1409\u001b[0;31m           run_metadata)\n\u001b[0m\u001b[1;32m   1410\u001b[0m     \u001b[0;32melse\u001b[0m\u001b[0;34m:\u001b[0m\u001b[0;34m\u001b[0m\u001b[0m\n\u001b[1;32m   1411\u001b[0m       \u001b[0;32mwith\u001b[0m \u001b[0merrors\u001b[0m\u001b[0;34m.\u001b[0m\u001b[0mraise_exception_on_not_ok_status\u001b[0m\u001b[0;34m(\u001b[0m\u001b[0;34m)\u001b[0m \u001b[0;32mas\u001b[0m \u001b[0mstatus\u001b[0m\u001b[0;34m:\u001b[0m\u001b[0;34m\u001b[0m\u001b[0m\n",
      "\u001b[0;31mKeyboardInterrupt\u001b[0m: "
     ]
    }
   ],
   "source": [
    "## import modules\n",
    "#from __future__ import absolute_import, division, print_function, unicode_literals\n",
    "\n",
    "# Install TensorFlow\n",
    "#!pip install -q tensorflow==2.0.0-alpha0\n",
    "\n",
    "#import tensorflow as tf\n",
    "\n",
    "## load data\n",
    "mnist = tf.keras.datasets.mnist\n",
    "\n",
    "(x_train, y_train), (x_test, y_test) = mnist.load_data()\n",
    "x_train, x_test = x_train / 255.0, x_test / 255.0\n",
    "\n",
    "model = tf.keras.models.Sequential([\n",
    "  tf.keras.layers.Flatten(input_shape=(28, 28)),\n",
    "  tf.keras.layers.Dense(128, activation='relu'),\n",
    "  tf.keras.layers.Dropout(0.2),\n",
    "  tf.keras.layers.Dense(10, activation='softmax')\n",
    "])\n",
    "\n",
    "model.compile(optimizer='adam',\n",
    "              loss='sparse_categorical_crossentropy',\n",
    "              metrics=['accuracy'])\n",
    "\n",
    "model.fit(x_train, y_train, epochs=5)\n",
    "\n",
    "model.evaluate(x_test, y_test)"
   ]
  },
  {
   "cell_type": "markdown",
   "metadata": {},
   "source": [
    "## Examples of using AI in the field of astronomy"
   ]
  },
  {
   "cell_type": "markdown",
   "metadata": {},
   "source": [
    "Deep learning of multi-element abundances from high-resolution spectroscopic data https://arxiv.org/abs/1808.04428\n",
    "\n",
    "\n",
    "Galaxy detection and identification using deep learning and dataaugmentation \n",
    "https://arxiv.org/pdf/1809.01691.pdf\n",
    "\n",
    "CosmoFlow: Using Deep Learning to Learn the Universe at Scale\n",
    "https://arxiv.org/pdf/1808.04728.pdf\n",
    "\n",
    "Identifying Exoplanets with Deep Learning: A Five-planet Resonant Chain around Kepler-80 and an Eighth Planet around Kepler-90\n",
    "https://iopscience.iop.org/article/10.3847/1538-3881/aa9e09/pdf"
   ]
  },
  {
   "cell_type": "markdown",
   "metadata": {},
   "source": [
    "### Why Neural Networks?\n",
    "\n",
    "Neural network are very flexible function estimators that learn through being shown \"examples\". Compared to other techniques, a strength of Neural Networks is that they can be customized to fit the structure of a dataset (Convolutional Neural Networks for images, Recurrent Neural Networks for time-series). Another advantage is that once trained, they can yield very quick predictions.\n",
    "\n",
    "Unlike other algorithms like Support Vector Machines or Linear Regression, the loss function they minimize is not convex (ie it does not have a single minimum). Instead it has multiple minimums, and in training we are interested in finding a suitably good minimum (as opposed to a global minimum). This means that their training can sometimes be a lot more fiddly. The loss function that you minimize can also be modified to fit the task you are trying to accomplish (see VAE or GAN for example)."
   ]
  },
  {
   "cell_type": "markdown",
   "metadata": {},
   "source": [
    "There is actually an interesting debate going on about whether deep learning methods should be assumption driven or whether they should be fully black-box methods. (see this open letter by max welling for example https://staff.fnwi.uva.nl/m.welling/wp-content/uploads/Model-versus-Data-AI-1.pdf)"
   ]
  },
  {
   "cell_type": "markdown",
   "metadata": {},
   "source": [
    "This picture shows the loss function with only 2 parameters. As always our intuition breaks down, neural networks will usually have tens of thousands of parameters. A minima will then only occur when all dimenions are at a minimum (otherwise saddle point). As such, its alot harder to reach a local minima. This is the same type of insight as the lottery ticket paper (see link). "
   ]
  },
  {
   "cell_type": "code",
   "execution_count": null,
   "metadata": {},
   "outputs": [],
   "source": []
  }
 ],
 "metadata": {
  "kernelspec": {
   "display_name": "Python [default]",
   "language": "python",
   "name": "python3"
  },
  "language_info": {
   "codemirror_mode": {
    "name": "ipython",
    "version": 3
   },
   "file_extension": ".py",
   "mimetype": "text/x-python",
   "name": "python",
   "nbconvert_exporter": "python",
   "pygments_lexer": "ipython3",
   "version": "3.6.8"
  }
 },
 "nbformat": 4,
 "nbformat_minor": 2
}
