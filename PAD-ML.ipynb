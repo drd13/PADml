{
 "cells": [
  {
   "cell_type": "markdown",
   "metadata": {},
   "source": [
    "## Phys Astro Data: Deep Learning using Pytorch and Keras\n",
    "\n",
    "Objectives:\n",
    "* Explain the essential components behind training a neural network\n",
    "* Show simple practical example of how to program a neural network\n",
    "* Contrast the two leading frameworks (Pytorch and Keras) so that people can make an informed decision.\n",
    "* Try and make it useful for people who already know machine learning (with small links to papers and asides).\n",
    "\n",
    "We will only talk about neural networks (ie deep learning) as this is what these libraries are specialized for."
   ]
  },
  {
   "cell_type": "markdown",
   "metadata": {},
   "source": [
    "### Neural Network Basics\n",
    "\n",
    "Machine learning = learning from examples.\n",
    "\n",
    "Let us begin with an example, consider we have a dataset containing images of digits as well as their **labels**, and we want to be able to predict the labels directly from the images."
   ]
  },
  {
   "cell_type": "code",
   "execution_count": 1,
   "metadata": {},
   "outputs": [
    {
     "data": {
      "text/html": [
       "<img src=\"https://corochann.com/wp-content/uploads/2017/02/mnist_plot-800x600.png\",width=200,height=200>\n"
      ],
      "text/plain": [
       "<IPython.core.display.HTML object>"
      ]
     },
     "metadata": {},
     "output_type": "display_data"
    }
   ],
   "source": [
    "%%html\n",
    "<img src=\"https://corochann.com/wp-content/uploads/2017/02/mnist_plot-800x600.png\",width=200,height=200>"
   ]
  },
  {
   "cell_type": "markdown",
   "metadata": {},
   "source": [
    "If we want an automated process to design an algorithm, we need to be able to assess whether an algorithm is better than another. This is where the **loss function** comes in. A typical choice is"
   ]
  },
  {
   "cell_type": "markdown",
   "metadata": {},
   "source": [
    "\\begin{equation}\n",
    "   MSE = \\sum_{1}^{N} (y_i-\\hat{y}(x_i))^2\n",
    "\\end{equation}"
   ]
  },
  {
   "cell_type": "markdown",
   "metadata": {},
   "source": [
    "\\begin{equation}\n",
    "Cross Entropy := -  \\sum_{1}^{N} \\sum_{c=1}^My_{o,c}\\log(p_{o,c})\n",
    "\\end{equation}\n",
    "where \n",
    "* M - number of classes (0,1,2,3,4,5,6,7,8,9 for the digit recognition)\n",
    "* y - binary indicator (0 or 1) if class label c is the correct classification for observation o\n",
    "* p - predicted probability observation o is of class c. \n",
    "\n",
    "This will be maximized when $p$ is exactly equal to the corresponding y"
   ]
  },
  {
   "cell_type": "markdown",
   "metadata": {},
   "source": [
    "We are interested in finding an algorithm/function that can find a low value of the loss function. We need to have some flexible way of parametrizing this function. This is where the Neural Network comes in."
   ]
  },
  {
   "cell_type": "code",
   "execution_count": 2,
   "metadata": {},
   "outputs": [
    {
     "data": {
      "text/html": [
       "<img src=\"https://cdn-images-1.medium.com/max/1600/1*QVIyc5HnGDWTNX3m-nIm9w.png\",width=200,height=200>\n"
      ],
      "text/plain": [
       "<IPython.core.display.HTML object>"
      ]
     },
     "metadata": {},
     "output_type": "display_data"
    }
   ],
   "source": [
    "%%html\n",
    "<img src=\"https://cdn-images-1.medium.com/max/1600/1*QVIyc5HnGDWTNX3m-nIm9w.png\",width=200,height=200>"
   ]
  },
  {
   "cell_type": "markdown",
   "metadata": {},
   "source": [
    "A **neural network** contains many parameters in the form of edges and activation functions. The activations are defined as\n",
    "$a_j = \\Phi\\left ( \\sum_{i} w_{ij} a_i +b_j \\right )$ \n"
   ]
  },
  {
   "cell_type": "markdown",
   "metadata": {},
   "source": [
    "By varying the neural network parameters, we change the mathematical function that the neural network is representing. With small changes to the parameters only leading to slight modifications in the function represented by the neural network."
   ]
  },
  {
   "cell_type": "markdown",
   "metadata": {},
   "source": [
    "If we look back to what we have done so far, through the neural network, we are able to generate many different algorithms by changing the parameters (weights, activations) and through the loss function we are able to assess which algorithm is the best. At this point, if we had infinite time we could just generate random weights and activations and keep the model that leads to the best loss function. This however, would take a really really really long time."
   ]
  },
  {
   "cell_type": "markdown",
   "metadata": {},
   "source": [
    "**Backpropagation** is what allows us to find good values for the edges and weights of our network. A full explanation is beyond the scope of this talk but we will explain intution behind it. "
   ]
  },
  {
   "cell_type": "markdown",
   "metadata": {},
   "source": [
    "Backpropagation is directly related to the **loss function**"
   ]
  },
  {
   "cell_type": "code",
   "execution_count": 3,
   "metadata": {},
   "outputs": [
    {
     "data": {
      "text/html": [
       "<img src=\"https://blog.paperspace.com/content/images/2018/05/challenges-1.png\",width=10,height=10>\n"
      ],
      "text/plain": [
       "<IPython.core.display.HTML object>"
      ]
     },
     "metadata": {},
     "output_type": "display_data"
    }
   ],
   "source": [
    "%%html\n",
    "<img src=\"https://blog.paperspace.com/content/images/2018/05/challenges-1.png\",width=10,height=10>"
   ]
  },
  {
   "cell_type": "markdown",
   "metadata": {},
   "source": [
    "**Backpropagation** is a way to get the gradient of the loss function, for the current set of parameters."
   ]
  },
  {
   "cell_type": "markdown",
   "metadata": {},
   "source": [
    "When we have the gradient of the loss function. We can make small changes to the parameters accordingly. If we iteratively repeat this procedure, we will then converge to a local minima. This is known as **gradient descent**."
   ]
  },
  {
   "cell_type": "code",
   "execution_count": 4,
   "metadata": {},
   "outputs": [
    {
     "data": {
      "text/html": [
       "<img src=\"https://cdn-images-1.medium.com/max/800/1*yasmQ5kvlmbYMe8eDkyl6w.png\",width=10,height=10>\n"
      ],
      "text/plain": [
       "<IPython.core.display.HTML object>"
      ]
     },
     "metadata": {},
     "output_type": "display_data"
    }
   ],
   "source": [
    "%%html\n",
    "<img src=\"https://cdn-images-1.medium.com/max/800/1*yasmQ5kvlmbYMe8eDkyl6w.png\",width=10,height=10>"
   ]
  },
  {
   "cell_type": "markdown",
   "metadata": {},
   "source": [
    "For purposes of illustration, we have only shown two dimensions. When we have many parameters, our loss function would have as many dimensions as there are parameters."
   ]
  },
  {
   "cell_type": "markdown",
   "metadata": {},
   "source": [
    "To summarize how a neural network is trained:  \n",
    "* Create a Neural network structure and initialize it with random parameter values (weights and activation functions). For our example we want as many inputs as image pixels and as many outputs as digit choices. \n",
    "\n",
    "* Define a loss function which measuring how well our neural network is doing at the task (how well does it predict digits). Before the neural network is trained, the neural network will be terrible at this task.\n",
    "\n",
    "* Iteratively, pass images through the neural network. Estimate the gradient of the parameters and update it. Iteratively improving the neural network output."
   ]
  },
  {
   "cell_type": "markdown",
   "metadata": {},
   "source": [
    "## Define Hyperparameters\n",
    "Hyperparameters are values/parameters set by the user before the learning begins, in a way similar to the input parameters for our physical models. "
   ]
  },
  {
   "cell_type": "code",
   "execution_count": 5,
   "metadata": {},
   "outputs": [],
   "source": [
    "learning_rate = 0.001\n",
    "n_batch = 64\n",
    "n_batch_test = 1000\n",
    "n_classes = 10\n",
    "epochs = 1"
   ]
  },
  {
   "cell_type": "markdown",
   "metadata": {},
   "source": [
    "# Pytorch Implementation"
   ]
  },
  {
   "cell_type": "code",
   "execution_count": 6,
   "metadata": {},
   "outputs": [],
   "source": [
    "import torch\n",
    "import torchvision\n",
    "import torch.nn as nn\n",
    "import torch.nn.functional as F\n",
    "import torch.optim as optim\n",
    "from torchvision import datasets, transforms"
   ]
  },
  {
   "cell_type": "code",
   "execution_count": 7,
   "metadata": {},
   "outputs": [],
   "source": [
    "train_mnist = torchvision.datasets.MNIST('.', train=True, download=True,\n",
    "                             transform=torchvision.transforms.Compose([\n",
    "                               torchvision.transforms.ToTensor(),\n",
    "                               torchvision.transforms.Normalize(\n",
    "                                 (0.1307,), (0.3081,))\n",
    "                             ]))\n",
    "\n",
    "test_mnist = torchvision.datasets.MNIST('.', train=False, download=True,\n",
    "                             transform=torchvision.transforms.Compose([\n",
    "                               torchvision.transforms.ToTensor(),\n",
    "                               torchvision.transforms.Normalize(\n",
    "                                 (0.1307,), (0.3081,))\n",
    "                             ]))\n",
    "\n",
    "\n",
    "\n",
    "loader = torch.utils.data.DataLoader(train_mnist,batch_size=n_batch, drop_last=True, shuffle=True)\n",
    "test_loader = torch.utils.data.DataLoader(test_mnist,batch_size=1000, drop_last=True, shuffle=True)"
   ]
  },
  {
   "cell_type": "markdown",
   "metadata": {},
   "source": [
    "We can take a look at our mnist dataset"
   ]
  },
  {
   "cell_type": "code",
   "execution_count": 8,
   "metadata": {},
   "outputs": [
    {
     "data": {
      "image/png": "[encoded data removed]",
      "text/plain": [
       "<Figure size 432x288 with 1 Axes>"
      ]
     },
     "metadata": {
      "needs_background": "light"
     },
     "output_type": "display_data"
    },
    {
     "data": {
      "image/png": "[encoded data removed]",
      "text/plain": [
       "<Figure size 432x288 with 1 Axes>"
      ]
     },
     "metadata": {
      "needs_background": "light"
     },
     "output_type": "display_data"
    },
    {
     "data": {
      "image/png": "[encoded data removed]",
      "text/plain": [
       "<Figure size 432x288 with 1 Axes>"
      ]
     },
     "metadata": {
      "needs_background": "light"
     },
     "output_type": "display_data"
    }
   ],
   "source": [
    "%matplotlib inline\n",
    "import matplotlib.pyplot as plt\n",
    "train_mnist[0][0][0].shape\n",
    "for i in range(3):\n",
    "    plt.title(\"label:{}\".format(train_mnist[i][1]))\n",
    "    plt.imshow(train_mnist[i][0][0], cmap='gray', interpolation='none')\n",
    "    plt.show()"
   ]
  },
  {
   "cell_type": "markdown",
   "metadata": {},
   "source": [
    "In pytorch, we define our neural network by inheriting from nn.module. The forward function is the function that is called when evaluating new data"
   ]
  },
  {
   "cell_type": "code",
   "execution_count": 9,
   "metadata": {},
   "outputs": [
    {
     "data": {
      "text/plain": [
       "tensor([[[-0.4242, -0.4242, -0.4242, -0.4242, -0.4242, -0.4242, -0.4242,\n",
       "          -0.4242, -0.4242, -0.4242, -0.4242, -0.4242, -0.4242, -0.4242,\n",
       "          -0.4242, -0.4242, -0.4242, -0.4242, -0.4242, -0.4242, -0.4242,\n",
       "          -0.4242, -0.4242, -0.4242, -0.4242, -0.4242, -0.4242, -0.4242],\n",
       "         [-0.4242, -0.4242, -0.4242, -0.4242, -0.4242, -0.4242, -0.4242,\n",
       "          -0.4242, -0.4242, -0.4242, -0.4242, -0.4242, -0.4242, -0.4242,\n",
       "          -0.4242, -0.4242, -0.4242, -0.4242, -0.4242, -0.4242, -0.4242,\n",
       "          -0.4242, -0.4242, -0.4242, -0.4242, -0.4242, -0.4242, -0.4242],\n",
       "         [-0.4242, -0.4242, -0.4242, -0.4242, -0.4242, -0.4242, -0.4242,\n",
       "          -0.4242, -0.4242, -0.4242, -0.4242, -0.4242, -0.4242, -0.4242,\n",
       "          -0.4242, -0.4242, -0.4242, -0.4242, -0.4242, -0.4242, -0.4242,\n",
       "          -0.4242, -0.4242, -0.4242, -0.4242, -0.4242, -0.4242, -0.4242],\n",
       "         [-0.4242, -0.4242, -0.4242, -0.4242, -0.4242, -0.4242, -0.4242,\n",
       "          -0.4242, -0.4242, -0.4242, -0.4242, -0.4242, -0.4242, -0.4242,\n",
       "          -0.4242, -0.4242, -0.4242, -0.4242, -0.4242, -0.4242, -0.4242,\n",
       "          -0.4242, -0.4242, -0.4242, -0.4242, -0.4242, -0.4242, -0.4242],\n",
       "         [-0.4242, -0.4242, -0.4242, -0.4242, -0.4242, -0.4242, -0.4242,\n",
       "          -0.4242, -0.4242, -0.4242, -0.4242, -0.4242, -0.4242, -0.4242,\n",
       "          -0.4242,  0.2249,  1.5996,  2.7960,  1.5996,  0.2122, -0.4242,\n",
       "          -0.4242, -0.4242, -0.4242, -0.4242, -0.4242, -0.4242, -0.4242],\n",
       "         [-0.4242, -0.4242, -0.4242, -0.4242, -0.4242, -0.4242, -0.4242,\n",
       "          -0.4242, -0.4242, -0.4242, -0.4242, -0.4242, -0.4242, -0.4242,\n",
       "           0.1867,  2.6051,  2.7833,  2.7833,  2.7833,  2.5924, -0.4242,\n",
       "          -0.4242, -0.4242, -0.4242, -0.4242, -0.4242, -0.4242, -0.4242],\n",
       "         [-0.4242, -0.4242, -0.4242, -0.4242, -0.4242, -0.4242, -0.4242,\n",
       "          -0.4242, -0.4242, -0.4242, -0.4242, -0.4242, -0.4242,  0.2631,\n",
       "           2.4651,  2.7960,  2.7833,  2.6178,  2.5415,  2.7833,  0.3013,\n",
       "          -0.3478, -0.4242, -0.4242, -0.4242, -0.4242, -0.4242, -0.4242],\n",
       "         [-0.4242, -0.4242, -0.4242, -0.4242, -0.4242, -0.4242, -0.4242,\n",
       "          -0.4242, -0.4242, -0.4242, -0.4242, -0.2969,  0.3395,  2.4269,\n",
       "           2.7833,  2.7960,  2.7833,  2.1469,  0.6450,  2.7833,  2.7960,\n",
       "           1.1286, -0.4242, -0.4242, -0.4242, -0.4242, -0.4242, -0.4242],\n",
       "         [-0.4242, -0.4242, -0.4242, -0.4242, -0.4242, -0.4242, -0.4242,\n",
       "          -0.4242, -0.4242, -0.4242, -0.4242,  1.6505,  2.7833,  2.7833,\n",
       "           2.7833,  2.7960,  2.7833,  2.7833,  0.7977,  1.9814,  2.7960,\n",
       "           1.7014, -0.4242, -0.4242, -0.4242, -0.4242, -0.4242, -0.4242],\n",
       "         [-0.4242, -0.4242, -0.4242, -0.4242, -0.4242, -0.4242, -0.4242,\n",
       "          -0.4242, -0.4242, -0.4242,  0.2249,  2.6051,  2.7960,  2.7960,\n",
       "           1.9942,  1.0268,  2.7960,  2.4778,  0.1740,  0.5813,  2.8215,\n",
       "           1.7141, -0.4242, -0.4242, -0.4242, -0.4242, -0.4242, -0.4242],\n",
       "         [-0.4242, -0.4242, -0.4242, -0.4242, -0.4242, -0.4242, -0.4242,\n",
       "          -0.4242, -0.4242,  0.1867,  2.6051,  2.7833,  2.7833,  1.8541,\n",
       "          -0.2715,  0.5304,  1.1159, -0.1569, -0.4242, -0.4242,  2.7960,\n",
       "           2.6687,  0.2122, -0.4242, -0.4242, -0.4242, -0.4242, -0.4242],\n",
       "         [-0.4242, -0.4242, -0.4242, -0.4242, -0.4242, -0.4242, -0.4242,\n",
       "          -0.4242,  0.0595,  1.6759,  2.7960,  2.5415,  2.2233,  0.6450,\n",
       "          -0.4242, -0.4242, -0.4242, -0.4242, -0.4242, -0.4242,  2.7960,\n",
       "           2.7833,  1.6759, -0.4242, -0.4242, -0.4242, -0.4242, -0.4242],\n",
       "         [-0.4242, -0.4242, -0.4242, -0.4242, -0.4242, -0.4242, -0.4242,\n",
       "          -0.3351,  1.8414,  2.7833,  2.6306,  0.4795, -0.1824, -0.0678,\n",
       "          -0.4242, -0.4242, -0.4242, -0.4242, -0.4242, -0.4242,  2.7960,\n",
       "           2.7833,  2.0578, -0.4242, -0.4242, -0.4242, -0.4242, -0.4242],\n",
       "         [-0.4242, -0.4242, -0.4242, -0.4242, -0.4242, -0.4242, -0.4242,\n",
       "           0.3013,  2.7833,  2.7833,  0.3777, -0.4242, -0.4242, -0.4242,\n",
       "          -0.4242, -0.4242, -0.4242, -0.4242, -0.4242, -0.4242,  2.7960,\n",
       "           2.7833,  2.0578, -0.4242, -0.4242, -0.4242, -0.4242, -0.4242],\n",
       "         [-0.4242, -0.4242, -0.4242, -0.4242, -0.4242, -0.4242, -0.4242,\n",
       "           2.0960,  2.7960,  1.9942, -0.4242, -0.4242, -0.4242, -0.4242,\n",
       "          -0.4242, -0.4242, -0.4242, -0.4242, -0.4242, -0.4242,  2.8215,\n",
       "           2.7960,  2.0705, -0.4242, -0.4242, -0.4242, -0.4242, -0.4242],\n",
       "         [-0.4242, -0.4242, -0.4242, -0.4242, -0.4242, -0.4242,  0.5431,\n",
       "           2.7069,  2.7833,  1.0013, -0.4242, -0.4242, -0.4242, -0.4242,\n",
       "          -0.4242, -0.4242, -0.4242, -0.4242, -0.4242, -0.4242,  2.7960,\n",
       "           2.7833,  1.4596, -0.4242, -0.4242, -0.4242, -0.4242, -0.4242],\n",
       "         [-0.4242, -0.4242, -0.4242, -0.4242, -0.4242, -0.4242,  0.6577,\n",
       "           2.7833,  2.5033, -0.1060, -0.4242, -0.4242, -0.4242, -0.4242,\n",
       "          -0.4242, -0.4242, -0.4242, -0.4242, -0.3351,  1.2941,  2.7960,\n",
       "           1.9432, -0.2715, -0.4242, -0.4242, -0.4242, -0.4242, -0.4242],\n",
       "         [-0.4242, -0.4242, -0.4242, -0.4242, -0.4242, -0.4242,  0.6577,\n",
       "           2.7833,  2.4142, -0.4242, -0.4242, -0.4242, -0.4242, -0.4242,\n",
       "          -0.4242, -0.4242, -0.4242, -0.3351,  1.2432,  2.7833,  2.4396,\n",
       "           0.4795, -0.4242, -0.4242, -0.4242, -0.4242, -0.4242, -0.4242],\n",
       "         [-0.4242, -0.4242, -0.4242, -0.4242, -0.4242, -0.4242,  0.6577,\n",
       "           2.7833,  1.4214, -0.4242, -0.4242, -0.4242, -0.4242, -0.4242,\n",
       "          -0.4242, -0.4242,  0.1867,  1.6759,  2.7833,  1.7778, -0.4242,\n",
       "          -0.4242, -0.4242, -0.4242, -0.4242, -0.4242, -0.4242, -0.4242],\n",
       "         [-0.4242, -0.4242, -0.4242, -0.4242, -0.4242, -0.4242,  0.6704,\n",
       "           2.7960,  2.4396, -0.4242, -0.4242, -0.4242, -0.4242, -0.4242,\n",
       "          -0.4242,  1.0268,  2.6051,  2.7960,  1.6378, -0.4242, -0.4242,\n",
       "          -0.4242, -0.4242, -0.4242, -0.4242, -0.4242, -0.4242, -0.4242],\n",
       "         [-0.4242, -0.4242, -0.4242, -0.4242, -0.4242, -0.4242,  0.6577,\n",
       "           2.7833,  2.7451,  1.4341,  0.1867, -0.0551,  0.6577,  1.8414,\n",
       "           2.4396,  2.7960,  2.4142,  1.7014,  0.2886, -0.4242, -0.4242,\n",
       "          -0.4242, -0.4242, -0.4242, -0.4242, -0.4242, -0.4242, -0.4242],\n",
       "         [-0.4242, -0.4242, -0.4242, -0.4242, -0.4242, -0.4242,  0.6577,\n",
       "           2.7833,  2.7833,  2.7833,  2.4906,  2.3124,  2.7833,  2.7833,\n",
       "           2.7833,  2.0705,  1.2305, -0.4242, -0.4242, -0.4242, -0.4242,\n",
       "          -0.4242, -0.4242, -0.4242, -0.4242, -0.4242, -0.4242, -0.4242],\n",
       "         [-0.4242, -0.4242, -0.4242, -0.4242, -0.4242, -0.4242, -0.0678,\n",
       "           2.1087,  2.7833,  2.7833,  2.7960,  2.7833,  2.7833,  2.5415,\n",
       "           1.4214, -0.4242, -0.4242, -0.4242, -0.4242, -0.4242, -0.4242,\n",
       "          -0.4242, -0.4242, -0.4242, -0.4242, -0.4242, -0.4242, -0.4242],\n",
       "         [-0.4242, -0.4242, -0.4242, -0.4242, -0.4242, -0.4242, -0.4242,\n",
       "          -0.1060,  1.2050,  2.7833,  2.7960,  2.7833,  1.3705,  0.0467,\n",
       "          -0.4242, -0.4242, -0.4242, -0.4242, -0.4242, -0.4242, -0.4242,\n",
       "          -0.4242, -0.4242, -0.4242, -0.4242, -0.4242, -0.4242, -0.4242],\n",
       "         [-0.4242, -0.4242, -0.4242, -0.4242, -0.4242, -0.4242, -0.4242,\n",
       "          -0.4242, -0.4242, -0.4242, -0.4242, -0.4242, -0.4242, -0.4242,\n",
       "          -0.4242, -0.4242, -0.4242, -0.4242, -0.4242, -0.4242, -0.4242,\n",
       "          -0.4242, -0.4242, -0.4242, -0.4242, -0.4242, -0.4242, -0.4242],\n",
       "         [-0.4242, -0.4242, -0.4242, -0.4242, -0.4242, -0.4242, -0.4242,\n",
       "          -0.4242, -0.4242, -0.4242, -0.4242, -0.4242, -0.4242, -0.4242,\n",
       "          -0.4242, -0.4242, -0.4242, -0.4242, -0.4242, -0.4242, -0.4242,\n",
       "          -0.4242, -0.4242, -0.4242, -0.4242, -0.4242, -0.4242, -0.4242],\n",
       "         [-0.4242, -0.4242, -0.4242, -0.4242, -0.4242, -0.4242, -0.4242,\n",
       "          -0.4242, -0.4242, -0.4242, -0.4242, -0.4242, -0.4242, -0.4242,\n",
       "          -0.4242, -0.4242, -0.4242, -0.4242, -0.4242, -0.4242, -0.4242,\n",
       "          -0.4242, -0.4242, -0.4242, -0.4242, -0.4242, -0.4242, -0.4242],\n",
       "         [-0.4242, -0.4242, -0.4242, -0.4242, -0.4242, -0.4242, -0.4242,\n",
       "          -0.4242, -0.4242, -0.4242, -0.4242, -0.4242, -0.4242, -0.4242,\n",
       "          -0.4242, -0.4242, -0.4242, -0.4242, -0.4242, -0.4242, -0.4242,\n",
       "          -0.4242, -0.4242, -0.4242, -0.4242, -0.4242, -0.4242, -0.4242]]])"
      ]
     },
     "execution_count": 9,
     "metadata": {},
     "output_type": "execute_result"
    }
   ],
   "source": [
    "train_mnist[1][0]"
   ]
  },
  {
   "cell_type": "code",
   "execution_count": 10,
   "metadata": {},
   "outputs": [],
   "source": [
    "class MnistNetwork(nn.Module):\n",
    "    def __init__(self):\n",
    "        super(MnistNetwork, self).__init__()\n",
    "\n",
    "        self.fc = nn.Sequential(nn.Linear(28*28, 1024),\n",
    "                                nn.ReLU(), \n",
    "                                nn.Linear(1024, 512),\n",
    "                                nn.ReLU(),\n",
    "                                nn.Linear(512,256),\n",
    "                                nn.ReLU(),\n",
    "                                nn.Linear(256,128),\n",
    "                                nn.ReLU(),\n",
    "                                nn.Linear(128, 10)\n",
    "                                )\n",
    "\n",
    "    def forward(self, x):\n",
    "        output = self.fc(x)\n",
    "        return output\n",
    "        #return F.softmax(output, dim=1)"
   ]
  },
  {
   "cell_type": "code",
   "execution_count": 11,
   "metadata": {},
   "outputs": [],
   "source": [
    "network = MnistNetwork()\n"
   ]
  },
  {
   "cell_type": "markdown",
   "metadata": {},
   "source": [
    "we next need to define a loss function, and choose which flavour of gradient descent to use"
   ]
  },
  {
   "cell_type": "code",
   "execution_count": 12,
   "metadata": {},
   "outputs": [],
   "source": [
    "# create a stochastic gradient descent optimizer\n",
    "optimizer = optim.Adam(network.parameters(), lr=learning_rate)\n",
    "# create a loss function\n",
    "loss =  nn.CrossEntropyLoss()"
   ]
  },
  {
   "cell_type": "markdown",
   "metadata": {},
   "source": [
    "We next train the neural network."
   ]
  },
  {
   "cell_type": "code",
   "execution_count": 13,
   "metadata": {},
   "outputs": [
    {
     "name": "stdout",
     "output_type": "stream",
     "text": [
      "the loss is:2.311967611312866\n",
      "the loss is:2.2844583988189697\n",
      "the loss is:2.230454206466675\n",
      "the loss is:2.137022018432617\n",
      "the loss is:2.002244234085083\n",
      "the loss is:1.958953619003296\n",
      "the loss is:1.8418402671813965\n",
      "the loss is:1.4767801761627197\n",
      "the loss is:1.5892982482910156\n",
      "the loss is:1.2962472438812256\n",
      "the loss is:1.2421574592590332\n",
      "the loss is:1.3857060670852661\n",
      "the loss is:1.3060873746871948\n",
      "the loss is:0.8941344022750854\n",
      "the loss is:1.1008174419403076\n",
      "the loss is:1.1263079643249512\n",
      "the loss is:0.9520962238311768\n",
      "the loss is:0.808806836605072\n",
      "the loss is:0.8666452765464783\n",
      "the loss is:0.8072506785392761\n",
      "the loss is:0.9235302209854126\n",
      "the loss is:0.873985767364502\n",
      "the loss is:0.5603586435317993\n",
      "the loss is:0.8130400776863098\n",
      "the loss is:0.7261424660682678\n",
      "the loss is:0.5905178785324097\n",
      "the loss is:0.5793184638023376\n",
      "the loss is:0.7026242613792419\n",
      "the loss is:0.511888325214386\n",
      "the loss is:0.6425878405570984\n",
      "the loss is:0.8293091058731079\n",
      "the loss is:0.5849884152412415\n",
      "the loss is:0.5126442909240723\n",
      "the loss is:0.5484815239906311\n",
      "the loss is:0.4134664535522461\n",
      "the loss is:0.7033004760742188\n",
      "the loss is:0.5748898386955261\n",
      "the loss is:0.41016918420791626\n",
      "the loss is:0.3476356863975525\n",
      "the loss is:0.3971419632434845\n",
      "the loss is:0.5893363952636719\n",
      "the loss is:0.44015997648239136\n",
      "the loss is:0.6070911884307861\n",
      "the loss is:0.49643847346305847\n",
      "the loss is:0.5405625104904175\n",
      "the loss is:0.4226280152797699\n",
      "the loss is:0.28720352053642273\n",
      "the loss is:0.6374337077140808\n",
      "the loss is:0.37641143798828125\n",
      "the loss is:0.2490539401769638\n",
      "the loss is:0.44304758310317993\n",
      "the loss is:0.31968969106674194\n",
      "the loss is:0.5451724529266357\n",
      "the loss is:0.28503987193107605\n",
      "the loss is:0.5912866592407227\n",
      "the loss is:0.45051875710487366\n",
      "the loss is:0.3608376383781433\n",
      "the loss is:0.5306361317634583\n",
      "the loss is:0.26766788959503174\n",
      "the loss is:0.44956666231155396\n",
      "the loss is:0.5391904711723328\n",
      "the loss is:0.33476704359054565\n",
      "the loss is:0.44775691628456116\n",
      "the loss is:0.549416720867157\n",
      "the loss is:0.2779894173145294\n",
      "the loss is:0.4039538502693176\n",
      "the loss is:0.2281932234764099\n",
      "the loss is:0.316865473985672\n",
      "the loss is:0.4991014301776886\n",
      "the loss is:0.3609890937805176\n",
      "the loss is:0.47226184606552124\n",
      "the loss is:0.44097307324409485\n",
      "the loss is:0.20966096222400665\n",
      "the loss is:0.41282394528388977\n",
      "the loss is:0.3005954623222351\n",
      "the loss is:0.37204015254974365\n",
      "the loss is:0.3031005561351776\n",
      "the loss is:0.15426577627658844\n",
      "the loss is:0.17919538915157318\n",
      "the loss is:0.356474369764328\n",
      "the loss is:0.264272540807724\n",
      "the loss is:0.428082674741745\n",
      "the loss is:0.5428645610809326\n",
      "the loss is:0.20644888281822205\n",
      "the loss is:0.4832864999771118\n",
      "the loss is:0.2686443030834198\n",
      "the loss is:0.3041344881057739\n",
      "the loss is:0.25114884972572327\n",
      "the loss is:0.33814767003059387\n",
      "the loss is:0.39368361234664917\n",
      "the loss is:0.26528769731521606\n",
      "the loss is:0.17013131082057953\n",
      "the loss is:0.4334155321121216\n",
      "the loss is:0.4612793028354645\n",
      "the loss is:0.19522370398044586\n",
      "the loss is:0.3762514591217041\n",
      "the loss is:0.40616732835769653\n",
      "the loss is:0.46142345666885376\n",
      "the loss is:0.2967444658279419\n",
      "the loss is:0.41526469588279724\n",
      "the loss is:0.3936982750892639\n",
      "the loss is:0.25715911388397217\n",
      "the loss is:0.2595714032649994\n",
      "the loss is:0.22580468654632568\n",
      "the loss is:0.35036197304725647\n",
      "the loss is:0.242239847779274\n",
      "the loss is:0.34554195404052734\n",
      "the loss is:0.38092902302742004\n",
      "the loss is:0.22532272338867188\n",
      "the loss is:0.10697996616363525\n",
      "the loss is:0.21393069624900818\n",
      "the loss is:0.2504894733428955\n",
      "the loss is:0.39477285742759705\n",
      "the loss is:0.4953860938549042\n",
      "the loss is:0.5113736987113953\n",
      "the loss is:0.22219118475914001\n",
      "the loss is:0.26571404933929443\n",
      "the loss is:0.30448058247566223\n",
      "the loss is:0.24479785561561584\n",
      "the loss is:0.24839363992214203\n",
      "the loss is:0.3485581576824188\n",
      "the loss is:0.338539183139801\n",
      "the loss is:0.35485416650772095\n",
      "the loss is:0.2048262059688568\n",
      "the loss is:0.46561360359191895\n",
      "the loss is:0.2628459930419922\n",
      "the loss is:0.12523967027664185\n",
      "the loss is:0.35123410820961\n",
      "the loss is:0.2591620087623596\n",
      "the loss is:0.3432588577270508\n",
      "the loss is:0.23197999596595764\n",
      "the loss is:0.247172012925148\n",
      "the loss is:0.33606091141700745\n",
      "the loss is:0.3511298596858978\n",
      "the loss is:0.11276606470346451\n",
      "the loss is:0.1876855343580246\n",
      "the loss is:0.322407990694046\n",
      "the loss is:0.2306578904390335\n",
      "the loss is:0.12633314728736877\n",
      "the loss is:0.1648021787405014\n",
      "the loss is:0.28512680530548096\n",
      "the loss is:0.2050618827342987\n",
      "the loss is:0.17511573433876038\n",
      "the loss is:0.26563405990600586\n",
      "the loss is:0.28653573989868164\n",
      "the loss is:0.05131681635975838\n",
      "the loss is:0.20788490772247314\n",
      "the loss is:0.24415931105613708\n",
      "the loss is:0.16128239035606384\n",
      "the loss is:0.12476974725723267\n",
      "the loss is:0.4045652151107788\n",
      "the loss is:0.2588214874267578\n",
      "the loss is:0.2237040251493454\n",
      "the loss is:0.12243315577507019\n",
      "the loss is:0.25964614748954773\n",
      "the loss is:0.3322317600250244\n",
      "the loss is:0.11912326514720917\n",
      "the loss is:0.46212416887283325\n",
      "the loss is:0.32051390409469604\n",
      "the loss is:0.19358882308006287\n",
      "the loss is:0.15866036713123322\n",
      "the loss is:0.33962494134902954\n",
      "the loss is:0.2724837362766266\n",
      "the loss is:0.09907955676317215\n",
      "the loss is:0.2621879577636719\n",
      "the loss is:0.2902024984359741\n",
      "the loss is:0.288727343082428\n",
      "the loss is:0.25887125730514526\n",
      "the loss is:0.2671007215976715\n",
      "the loss is:0.2644965946674347\n",
      "the loss is:0.13804608583450317\n",
      "the loss is:0.15840379893779755\n",
      "the loss is:0.058273594826459885\n",
      "the loss is:0.13946497440338135\n",
      "the loss is:0.20669232308864594\n",
      "the loss is:0.19833913445472717\n",
      "the loss is:0.29667332768440247\n",
      "the loss is:0.2791285812854767\n",
      "the loss is:0.10516814887523651\n",
      "the loss is:0.1525932252407074\n",
      "the loss is:0.08902164548635483\n",
      "the loss is:0.18388959765434265\n",
      "the loss is:0.15555429458618164\n",
      "the loss is:0.4590979814529419\n",
      "the loss is:0.44312000274658203\n",
      "the loss is:0.464038223028183\n",
      "the loss is:0.188015878200531\n",
      "the loss is:0.28115469217300415\n",
      "the loss is:0.1856224536895752\n",
      "the loss is:0.2093774378299713\n",
      "the loss is:0.26592597365379333\n",
      "the loss is:0.261740505695343\n",
      "the loss is:0.28832563757896423\n",
      "the loss is:0.2983367443084717\n",
      "the loss is:0.18522441387176514\n",
      "the loss is:0.06866703182458878\n",
      "the loss is:0.6345198154449463\n",
      "the loss is:0.28756046295166016\n",
      "the loss is:0.44045817852020264\n",
      "the loss is:0.29025495052337646\n",
      "the loss is:0.08025087416172028\n",
      "the loss is:0.38274362683296204\n",
      "the loss is:0.27449852228164673\n",
      "the loss is:0.16043248772621155\n",
      "the loss is:0.08221062272787094\n",
      "the loss is:0.32015618681907654\n",
      "the loss is:0.2596769332885742\n",
      "the loss is:0.2092047780752182\n",
      "the loss is:0.38890063762664795\n",
      "the loss is:0.3892359435558319\n",
      "the loss is:0.39120277762413025\n",
      "the loss is:0.19173374772071838\n",
      "the loss is:0.1880364716053009\n",
      "the loss is:0.3227103352546692\n",
      "the loss is:0.1863749921321869\n",
      "the loss is:0.23232245445251465\n",
      "the loss is:0.3194617033004761\n",
      "the loss is:0.2170780599117279\n",
      "the loss is:0.17627549171447754\n",
      "the loss is:0.2634179890155792\n",
      "the loss is:0.06164149194955826\n",
      "the loss is:0.39463433623313904\n",
      "the loss is:0.3223511576652527\n",
      "the loss is:0.26303228735923767\n",
      "the loss is:0.22930192947387695\n",
      "the loss is:0.15685074031352997\n",
      "the loss is:0.30471307039260864\n",
      "the loss is:0.23457011580467224\n",
      "the loss is:0.23185035586357117\n",
      "the loss is:0.378587543964386\n",
      "the loss is:0.09621574729681015\n",
      "the loss is:0.31420081853866577\n",
      "the loss is:0.29976993799209595\n",
      "the loss is:0.14866068959236145\n",
      "the loss is:0.20538923144340515\n",
      "the loss is:0.2482406497001648\n",
      "the loss is:0.0933861956000328\n",
      "the loss is:0.1569325178861618\n",
      "the loss is:0.3713916540145874\n",
      "the loss is:0.22458317875862122\n",
      "the loss is:0.23341920971870422\n",
      "the loss is:0.07319336384534836\n",
      "the loss is:0.1608983874320984\n",
      "the loss is:0.22210083901882172\n",
      "the loss is:0.11967191100120544\n",
      "the loss is:0.26267221570014954\n",
      "the loss is:0.24082008004188538\n",
      "the loss is:0.12056431174278259\n",
      "the loss is:0.17511416971683502\n",
      "the loss is:0.29057276248931885\n",
      "the loss is:0.42560917139053345\n",
      "the loss is:0.21912938356399536\n",
      "the loss is:0.24127787351608276\n",
      "the loss is:0.17038026452064514\n",
      "the loss is:0.34827446937561035\n",
      "the loss is:0.18533504009246826\n",
      "the loss is:0.14156398177146912\n",
      "the loss is:0.2365354299545288\n",
      "the loss is:0.2790508270263672\n",
      "the loss is:0.21284359693527222\n",
      "the loss is:0.17051497101783752\n",
      "the loss is:0.1795404553413391\n",
      "the loss is:0.2406618893146515\n",
      "the loss is:0.243699312210083\n",
      "the loss is:0.25365251302719116\n",
      "the loss is:0.1443520039319992\n",
      "the loss is:0.20471009612083435\n",
      "the loss is:0.09992136806249619\n",
      "the loss is:0.19990894198417664\n",
      "the loss is:0.22772687673568726\n",
      "the loss is:0.7220618724822998\n",
      "the loss is:0.27732786536216736\n",
      "the loss is:0.19675925374031067\n",
      "the loss is:0.3277575373649597\n",
      "the loss is:0.0933021754026413\n",
      "the loss is:0.08681058138608932\n",
      "the loss is:0.21454937756061554\n",
      "the loss is:0.17658324539661407\n",
      "the loss is:0.26841410994529724\n",
      "the loss is:0.23942652344703674\n",
      "the loss is:0.20070061087608337\n",
      "the loss is:0.250845730304718\n",
      "the loss is:0.2426418960094452\n",
      "the loss is:0.2760276198387146\n",
      "the loss is:0.09517327696084976\n",
      "the loss is:0.29247990250587463\n",
      "the loss is:0.1972755491733551\n",
      "the loss is:0.08159437030553818\n",
      "the loss is:0.21506717801094055\n",
      "the loss is:0.16533873975276947\n",
      "the loss is:0.08677647262811661\n",
      "the loss is:0.20657037198543549\n",
      "the loss is:0.20874439179897308\n",
      "the loss is:0.14952749013900757\n",
      "the loss is:0.1724606454372406\n",
      "the loss is:0.2588803768157959\n",
      "the loss is:0.0426456555724144\n",
      "the loss is:0.11680780351161957\n",
      "the loss is:0.12984684109687805\n",
      "the loss is:0.207173690199852\n",
      "the loss is:0.2770877182483673\n",
      "the loss is:0.26491886377334595\n",
      "the loss is:0.20988640189170837\n",
      "the loss is:0.35654217004776\n",
      "the loss is:0.04175938665866852\n",
      "the loss is:0.10162482410669327\n",
      "the loss is:0.3960152864456177\n",
      "the loss is:0.22871389985084534\n",
      "the loss is:0.2641378343105316\n",
      "the loss is:0.4166463315486908\n",
      "the loss is:0.18539181351661682\n",
      "the loss is:0.1834222823381424\n",
      "the loss is:0.33352503180503845\n",
      "the loss is:0.2988913059234619\n",
      "the loss is:0.3569714426994324\n",
      "the loss is:0.15035825967788696\n",
      "the loss is:0.23951196670532227\n",
      "the loss is:0.3149043917655945\n",
      "the loss is:0.16250111162662506\n",
      "the loss is:0.2918916344642639\n",
      "the loss is:0.12819501757621765\n",
      "the loss is:0.24189886450767517\n",
      "the loss is:0.2228788584470749\n",
      "the loss is:0.18477162718772888\n",
      "the loss is:0.1312282681465149\n",
      "the loss is:0.23029616475105286\n",
      "the loss is:0.07671734690666199\n",
      "the loss is:0.16653819382190704\n",
      "the loss is:0.13340994715690613\n",
      "the loss is:0.2459951788187027\n",
      "the loss is:0.20055259764194489\n",
      "the loss is:0.37763094902038574\n",
      "the loss is:0.2668153941631317\n",
      "the loss is:0.18260014057159424\n",
      "the loss is:0.08645125478506088\n",
      "the loss is:0.17236417531967163\n",
      "the loss is:0.12603333592414856\n",
      "the loss is:0.26128023862838745\n",
      "the loss is:0.10931891202926636\n",
      "the loss is:0.150255024433136\n",
      "the loss is:0.19031256437301636\n",
      "the loss is:0.1865079700946808\n",
      "the loss is:0.19577905535697937\n",
      "the loss is:0.1486484855413437\n",
      "the loss is:0.16340132057666779\n",
      "the loss is:0.19790658354759216\n",
      "the loss is:0.07006838917732239\n",
      "the loss is:0.20868723094463348\n",
      "the loss is:0.22491030395030975\n",
      "the loss is:0.07844619452953339\n",
      "the loss is:0.19070382416248322\n",
      "the loss is:0.1786796897649765\n",
      "the loss is:0.3194785416126251\n",
      "the loss is:0.19829273223876953\n",
      "the loss is:0.15114372968673706\n",
      "the loss is:0.2241072654724121\n",
      "the loss is:0.09011152386665344\n",
      "the loss is:0.18607942759990692\n",
      "the loss is:0.4417898952960968\n",
      "the loss is:0.24400463700294495\n",
      "the loss is:0.12377519905567169\n",
      "the loss is:0.09392070025205612\n",
      "the loss is:0.28340885043144226\n",
      "the loss is:0.1796221286058426\n",
      "the loss is:0.14804214239120483\n",
      "the loss is:0.11933714151382446\n",
      "the loss is:0.031320951879024506\n",
      "the loss is:0.053807009011507034\n",
      "the loss is:0.2954910397529602\n",
      "the loss is:0.33972740173339844\n",
      "the loss is:0.4955187439918518\n",
      "the loss is:0.29879364371299744\n",
      "the loss is:0.23760540783405304\n",
      "the loss is:0.12413211166858673\n",
      "the loss is:0.10044942796230316\n",
      "the loss is:0.08267918229103088\n",
      "the loss is:0.1187603548169136\n",
      "the loss is:0.4361729025840759\n",
      "the loss is:0.2134167104959488\n",
      "the loss is:0.19690115749835968\n",
      "the loss is:0.11588137596845627\n",
      "the loss is:0.14391359686851501\n",
      "the loss is:0.23370254039764404\n",
      "the loss is:0.09599273651838303\n",
      "the loss is:0.3383312225341797\n",
      "the loss is:0.2249838411808014\n",
      "the loss is:0.2161581814289093\n",
      "the loss is:0.1654719114303589\n",
      "the loss is:0.12147180736064911\n",
      "the loss is:0.16399507224559784\n",
      "the loss is:0.12104277312755585\n",
      "the loss is:0.1471339613199234\n",
      "the loss is:0.14697568118572235\n",
      "the loss is:0.17012766003608704\n",
      "the loss is:0.2437334805727005\n",
      "the loss is:0.3571798801422119\n",
      "the loss is:0.1280275583267212\n",
      "the loss is:0.10310589522123337\n",
      "the loss is:0.3682571053504944\n",
      "the loss is:0.05415616184473038\n",
      "the loss is:0.38923364877700806\n",
      "the loss is:0.30280259251594543\n",
      "the loss is:0.028193019330501556\n",
      "the loss is:0.16068023443222046\n",
      "the loss is:0.26223862171173096\n",
      "the loss is:0.1273885816335678\n",
      "the loss is:0.2139085978269577\n",
      "the loss is:0.17368583381175995\n",
      "the loss is:0.16350117325782776\n",
      "the loss is:0.15420174598693848\n",
      "the loss is:0.08780013024806976\n",
      "the loss is:0.04144665598869324\n",
      "the loss is:0.32427316904067993\n",
      "the loss is:0.12735839188098907\n",
      "the loss is:0.14564906060695648\n",
      "the loss is:0.18821009993553162\n",
      "the loss is:0.334054559469223\n",
      "the loss is:0.209120973944664\n",
      "the loss is:0.21517127752304077\n",
      "the loss is:0.13026173412799835\n",
      "the loss is:0.1667153239250183\n",
      "the loss is:0.2730151116847992\n",
      "the loss is:0.12468300759792328\n",
      "the loss is:0.19640493392944336\n",
      "the loss is:0.06748341023921967\n",
      "the loss is:0.3564574718475342\n",
      "the loss is:0.08150532841682434\n",
      "the loss is:0.1752641648054123\n",
      "the loss is:0.15381956100463867\n",
      "the loss is:0.4121842682361603\n",
      "the loss is:0.12017480283975601\n",
      "the loss is:0.08375463634729385\n",
      "the loss is:0.42508211731910706\n",
      "the loss is:0.4387143552303314\n",
      "the loss is:0.13242584466934204\n",
      "the loss is:0.234878271818161\n",
      "the loss is:0.04235445708036423\n",
      "the loss is:0.1457025110721588\n",
      "the loss is:0.1675102859735489\n",
      "the loss is:0.1915968507528305\n",
      "the loss is:0.0812782570719719\n",
      "the loss is:0.23772531747817993\n",
      "the loss is:0.09235099703073502\n",
      "the loss is:0.2863183319568634\n",
      "the loss is:0.09764088690280914\n",
      "the loss is:0.12325597554445267\n",
      "the loss is:0.06121881678700447\n",
      "the loss is:0.1540677398443222\n",
      "the loss is:0.14682632684707642\n",
      "the loss is:0.12564103305339813\n",
      "the loss is:0.14922666549682617\n",
      "the loss is:0.11903070658445358\n",
      "the loss is:0.16870132088661194\n",
      "the loss is:0.25268253684043884\n",
      "the loss is:0.14714163541793823\n",
      "the loss is:0.13713446259498596\n",
      "the loss is:0.13007745146751404\n",
      "the loss is:0.2746824622154236\n",
      "the loss is:0.12631827592849731\n",
      "the loss is:0.11279459297657013\n",
      "the loss is:0.18359020352363586\n",
      "the loss is:0.12426227331161499\n",
      "the loss is:0.11755027621984482\n",
      "the loss is:0.2317720651626587\n",
      "the loss is:0.28196629881858826\n",
      "the loss is:0.1271369755268097\n",
      "the loss is:0.1534651815891266\n",
      "the loss is:0.2977597117424011\n",
      "the loss is:0.1723935455083847\n",
      "the loss is:0.2761411964893341\n",
      "the loss is:0.23214900493621826\n",
      "the loss is:0.23992663621902466\n",
      "the loss is:0.3097899556159973\n",
      "the loss is:0.13769400119781494\n",
      "the loss is:0.10774125903844833\n",
      "the loss is:0.358895480632782\n",
      "the loss is:0.10796423256397247\n",
      "the loss is:0.10084039717912674\n",
      "the loss is:0.11791347712278366\n",
      "the loss is:0.0926738902926445\n",
      "the loss is:0.1704997718334198\n",
      "the loss is:0.16646675765514374\n",
      "the loss is:0.12487299740314484\n",
      "the loss is:0.37625235319137573\n",
      "the loss is:0.0728226900100708\n",
      "the loss is:0.14154765009880066\n",
      "the loss is:0.07260219007730484\n",
      "the loss is:0.24779927730560303\n",
      "the loss is:0.16496214270591736\n",
      "the loss is:0.14301249384880066\n",
      "the loss is:0.24914105236530304\n",
      "the loss is:0.18386036157608032\n",
      "the loss is:0.24403811991214752\n",
      "the loss is:0.33368614315986633\n",
      "the loss is:0.08827529847621918\n",
      "the loss is:0.0841568186879158\n",
      "the loss is:0.19946430623531342\n",
      "the loss is:0.06402616202831268\n",
      "the loss is:0.0804760605096817\n",
      "the loss is:0.25838565826416016\n",
      "the loss is:0.20386013388633728\n",
      "the loss is:0.032940562814474106\n",
      "the loss is:0.20822414755821228\n",
      "the loss is:0.10878082364797592\n",
      "the loss is:0.10409480333328247\n",
      "the loss is:0.09385709464550018\n",
      "the loss is:0.20014390349388123\n",
      "the loss is:0.2695770263671875\n",
      "the loss is:0.1890074610710144\n",
      "the loss is:0.2639424204826355\n",
      "the loss is:0.17113736271858215\n",
      "the loss is:0.21494249999523163\n",
      "the loss is:0.18656301498413086\n",
      "the loss is:0.3030189275741577\n",
      "the loss is:0.06179523468017578\n",
      "the loss is:0.05254063755273819\n",
      "the loss is:0.1294078230857849\n",
      "the loss is:0.1413019299507141\n",
      "the loss is:0.15565413236618042\n",
      "the loss is:0.15345939993858337\n",
      "the loss is:0.15817326307296753\n",
      "the loss is:0.07219914346933365\n",
      "the loss is:0.16750533878803253\n",
      "the loss is:0.05780867487192154\n",
      "the loss is:0.047793611884117126\n",
      "the loss is:0.14396071434020996\n",
      "the loss is:0.2279919683933258\n",
      "the loss is:0.06371916085481644\n",
      "the loss is:0.1373908817768097\n",
      "the loss is:0.10056149214506149\n",
      "the loss is:0.027936924248933792\n",
      "the loss is:0.12372690439224243\n",
      "the loss is:0.3217059373855591\n",
      "the loss is:0.1498432159423828\n",
      "the loss is:0.14794236421585083\n",
      "the loss is:0.29040294885635376\n",
      "the loss is:0.17179182171821594\n",
      "the loss is:0.10182895511388779\n",
      "the loss is:0.15791237354278564\n",
      "the loss is:0.061693187803030014\n",
      "the loss is:0.1586371809244156\n",
      "the loss is:0.11916743218898773\n",
      "the loss is:0.25624167919158936\n",
      "the loss is:0.2144947052001953\n",
      "the loss is:0.15624180436134338\n",
      "the loss is:0.13416914641857147\n",
      "the loss is:0.2571849524974823\n",
      "the loss is:0.09611206501722336\n",
      "the loss is:0.22437232732772827\n",
      "the loss is:0.23478560149669647\n",
      "the loss is:0.13119998574256897\n",
      "the loss is:0.1873774528503418\n",
      "the loss is:0.2904983162879944\n",
      "the loss is:0.06141802296042442\n",
      "the loss is:0.06261629611253738\n",
      "the loss is:0.26856714487075806\n",
      "the loss is:0.1200631782412529\n",
      "the loss is:0.1524532437324524\n",
      "the loss is:0.046184003353118896\n",
      "the loss is:0.4742850065231323\n",
      "the loss is:0.02811858057975769\n",
      "the loss is:0.1334609091281891\n",
      "the loss is:0.03514939919114113\n",
      "the loss is:0.15151889622211456\n",
      "the loss is:0.10358338803052902\n",
      "the loss is:0.18075130879878998\n",
      "the loss is:0.022506780922412872\n",
      "the loss is:0.21740740537643433\n",
      "the loss is:0.2820510268211365\n",
      "the loss is:0.1583584100008011\n",
      "the loss is:0.08640751242637634\n",
      "the loss is:0.13755901157855988\n",
      "the loss is:0.12589403986930847\n",
      "the loss is:0.10943801701068878\n",
      "the loss is:0.15300250053405762\n",
      "the loss is:0.15503786504268646\n",
      "the loss is:0.21944227814674377\n",
      "the loss is:0.08389875292778015\n",
      "the loss is:0.13142013549804688\n",
      "the loss is:0.1555226743221283\n",
      "the loss is:0.20888665318489075\n",
      "the loss is:0.08156941086053848\n",
      "the loss is:0.27345889806747437\n",
      "the loss is:0.12175918370485306\n",
      "the loss is:0.1385899931192398\n",
      "the loss is:0.117552250623703\n",
      "the loss is:0.10017399489879608\n",
      "the loss is:0.11309687793254852\n",
      "the loss is:0.07085190713405609\n",
      "the loss is:0.07565689086914062\n",
      "the loss is:0.13594835996627808\n",
      "the loss is:0.12563708424568176\n",
      "the loss is:0.14781127870082855\n",
      "the loss is:0.2869511842727661\n",
      "the loss is:0.18654967844486237\n",
      "the loss is:0.2545475363731384\n",
      "the loss is:0.25136008858680725\n",
      "the loss is:0.056746706366539\n",
      "the loss is:0.15364059805870056\n",
      "the loss is:0.07928838580846786\n",
      "the loss is:0.2598085105419159\n",
      "the loss is:0.0651814192533493\n",
      "the loss is:0.09705936163663864\n",
      "the loss is:0.062440622597932816\n",
      "the loss is:0.09394197911024094\n",
      "the loss is:0.16786864399909973\n",
      "the loss is:0.1217808946967125\n",
      "the loss is:0.014775894582271576\n",
      "the loss is:0.20354650914669037\n",
      "the loss is:0.2423229068517685\n",
      "the loss is:0.14112354815006256\n",
      "the loss is:0.05970853939652443\n",
      "the loss is:0.11491068452596664\n",
      "the loss is:0.04520127922296524\n",
      "the loss is:0.20104411244392395\n",
      "the loss is:0.18370941281318665\n",
      "the loss is:0.3393310010433197\n",
      "the loss is:0.048455845564603806\n",
      "the loss is:0.1368497759103775\n",
      "the loss is:0.09578076004981995\n",
      "the loss is:0.12865692377090454\n",
      "the loss is:0.09063336253166199\n",
      "the loss is:0.263327419757843\n",
      "the loss is:0.19460314512252808\n",
      "the loss is:0.1092114970088005\n",
      "the loss is:0.11004319787025452\n",
      "the loss is:0.23172706365585327\n",
      "the loss is:0.16689401865005493\n",
      "the loss is:0.16960886120796204\n",
      "the loss is:0.19938233494758606\n",
      "the loss is:0.24477562308311462\n",
      "the loss is:0.05012392997741699\n",
      "the loss is:0.2086399793624878\n",
      "the loss is:0.12963947653770447\n",
      "the loss is:0.09422194212675095\n",
      "the loss is:0.2634081542491913\n",
      "the loss is:0.23338641226291656\n",
      "the loss is:0.12225323915481567\n",
      "the loss is:0.07275782525539398\n",
      "the loss is:0.13919803500175476\n",
      "the loss is:0.04428078979253769\n",
      "the loss is:0.1134197786450386\n",
      "the loss is:0.0932687371969223\n",
      "the loss is:0.14735329151153564\n",
      "the loss is:0.14801914989948273\n",
      "the loss is:0.09537959098815918\n",
      "the loss is:0.15893292427062988\n",
      "the loss is:0.09242038428783417\n",
      "the loss is:0.22978068888187408\n",
      "the loss is:0.09283177554607391\n",
      "the loss is:0.06118283420801163\n",
      "the loss is:0.13953951001167297\n",
      "the loss is:0.14750555157661438\n",
      "the loss is:0.08660297095775604\n",
      "the loss is:0.3274253010749817\n",
      "the loss is:0.11525222659111023\n",
      "the loss is:0.13480275869369507\n",
      "the loss is:0.18673157691955566\n",
      "the loss is:0.2823987603187561\n",
      "the loss is:0.12288758903741837\n",
      "the loss is:0.12280434370040894\n",
      "the loss is:0.042025115340948105\n",
      "the loss is:0.2355954349040985\n",
      "the loss is:0.029777266085147858\n",
      "the loss is:0.11250574141740799\n",
      "the loss is:0.01031292974948883\n",
      "the loss is:0.10216661542654037\n",
      "the loss is:0.15474900603294373\n",
      "the loss is:0.14976447820663452\n",
      "the loss is:0.21276849508285522\n",
      "the loss is:0.04508766159415245\n",
      "the loss is:0.16430002450942993\n",
      "the loss is:0.11913172155618668\n",
      "the loss is:0.05526391416788101\n",
      "the loss is:0.22795872390270233\n",
      "the loss is:0.1398615539073944\n",
      "the loss is:0.06717332452535629\n",
      "the loss is:0.12595216929912567\n",
      "the loss is:0.07327628135681152\n",
      "the loss is:0.07951744645833969\n",
      "the loss is:0.2265997678041458\n",
      "the loss is:0.1582120954990387\n",
      "the loss is:0.11869482696056366\n",
      "the loss is:0.16982406377792358\n",
      "the loss is:0.0649782121181488\n",
      "the loss is:0.14368212223052979\n",
      "the loss is:0.25097236037254333\n",
      "the loss is:0.06325875967741013\n",
      "the loss is:0.22668352723121643\n",
      "the loss is:0.041925739496946335\n",
      "the loss is:0.1230570375919342\n",
      "the loss is:0.1422824263572693\n",
      "the loss is:0.29106998443603516\n",
      "the loss is:0.1511615514755249\n",
      "the loss is:0.03642802685499191\n",
      "the loss is:0.1709831953048706\n",
      "the loss is:0.09949036687612534\n",
      "the loss is:0.10337302833795547\n",
      "the loss is:0.2585441768169403\n",
      "the loss is:0.21529877185821533\n",
      "the loss is:0.26263856887817383\n",
      "the loss is:0.07183989882469177\n",
      "the loss is:0.08320916444063187\n",
      "the loss is:0.16251499950885773\n",
      "the loss is:0.049447059631347656\n",
      "the loss is:0.330011248588562\n",
      "the loss is:0.15336452424526215\n",
      "the loss is:0.16609197854995728\n",
      "the loss is:0.09942507743835449\n",
      "the loss is:0.06782536953687668\n",
      "the loss is:0.1542641520500183\n",
      "the loss is:0.07027567923069\n",
      "the loss is:0.07853129506111145\n",
      "the loss is:0.36924368143081665\n",
      "the loss is:0.2797677218914032\n",
      "the loss is:0.016569815576076508\n",
      "the loss is:0.18085642158985138\n",
      "the loss is:0.16724838316440582\n",
      "the loss is:0.14724396169185638\n",
      "the loss is:0.1123855859041214\n",
      "the loss is:0.1766318678855896\n",
      "the loss is:0.24138088524341583\n",
      "the loss is:0.10794539004564285\n",
      "the loss is:0.2250143438577652\n",
      "the loss is:0.1295737475156784\n",
      "the loss is:0.06288286298513412\n",
      "the loss is:0.16567575931549072\n",
      "the loss is:0.3145698308944702\n",
      "the loss is:0.08181435614824295\n",
      "the loss is:0.09593915194272995\n",
      "the loss is:0.09527811408042908\n",
      "the loss is:0.13892057538032532\n",
      "the loss is:0.08856694400310516\n",
      "the loss is:0.17799018323421478\n",
      "the loss is:0.054809316992759705\n",
      "the loss is:0.08461393415927887\n",
      "the loss is:0.15798376500606537\n",
      "the loss is:0.2401588261127472\n",
      "the loss is:0.22607217729091644\n",
      "the loss is:0.3636118471622467\n",
      "the loss is:0.1806515008211136\n",
      "the loss is:0.03027823567390442\n",
      "the loss is:0.20558886229991913\n",
      "the loss is:0.05521106347441673\n",
      "the loss is:0.18053404986858368\n",
      "the loss is:0.3365774154663086\n",
      "the loss is:0.05846406891942024\n",
      "the loss is:0.13592761754989624\n",
      "the loss is:0.11101344227790833\n",
      "the loss is:0.1049170196056366\n",
      "the loss is:0.06436963379383087\n",
      "the loss is:0.32544833421707153\n",
      "the loss is:0.2017947882413864\n",
      "the loss is:0.05804404243826866\n",
      "the loss is:0.10989412665367126\n",
      "the loss is:0.10504596680402756\n",
      "the loss is:0.22163890302181244\n",
      "the loss is:0.13924869894981384\n",
      "the loss is:0.21232916414737701\n",
      "the loss is:0.14263063669204712\n",
      "the loss is:0.07162989675998688\n",
      "the loss is:0.18114590644836426\n",
      "the loss is:0.16839812695980072\n",
      "the loss is:0.0957326740026474\n",
      "the loss is:0.0845242440700531\n",
      "the loss is:0.07671529054641724\n",
      "the loss is:0.34444114565849304\n",
      "the loss is:0.09155399352312088\n",
      "the loss is:0.12283750623464584\n",
      "the loss is:0.0825079083442688\n",
      "the loss is:0.04455181583762169\n",
      "the loss is:0.11237335205078125\n",
      "the loss is:0.27085721492767334\n",
      "the loss is:0.11440029740333557\n",
      "the loss is:0.04830743372440338\n",
      "the loss is:0.08572366833686829\n",
      "the loss is:0.1906154453754425\n",
      "the loss is:0.1068718209862709\n",
      "the loss is:0.225705087184906\n",
      "the loss is:0.15928705036640167\n",
      "the loss is:0.08378276228904724\n",
      "the loss is:0.17446783185005188\n",
      "the loss is:0.030990511178970337\n",
      "the loss is:0.08968596905469894\n",
      "the loss is:0.05190090462565422\n",
      "the loss is:0.04394769296050072\n",
      "the loss is:0.15135350823402405\n",
      "the loss is:0.12274866551160812\n",
      "the loss is:0.07011713087558746\n",
      "the loss is:0.19520500302314758\n",
      "the loss is:0.2306271493434906\n",
      "the loss is:0.12710177898406982\n",
      "the loss is:0.05500398203730583\n",
      "the loss is:0.06555990874767303\n",
      "the loss is:0.25277531147003174\n",
      "the loss is:0.11065386235713959\n",
      "the loss is:0.21743839979171753\n",
      "the loss is:0.314868301153183\n",
      "the loss is:0.13899648189544678\n",
      "the loss is:0.08797700703144073\n",
      "the loss is:0.16180631518363953\n",
      "the loss is:0.19417829811573029\n",
      "the loss is:0.12372511625289917\n",
      "the loss is:0.19040250778198242\n",
      "the loss is:0.17703258991241455\n",
      "the loss is:0.131322979927063\n",
      "the loss is:0.2531907558441162\n",
      "the loss is:0.1232924535870552\n",
      "the loss is:0.13051146268844604\n",
      "the loss is:0.19405943155288696\n",
      "the loss is:0.25119373202323914\n",
      "the loss is:0.19778305292129517\n",
      "the loss is:0.10290553420782089\n",
      "the loss is:0.2573316693305969\n",
      "the loss is:0.13140662014484406\n",
      "the loss is:0.05306799337267876\n",
      "the loss is:0.2471681386232376\n",
      "the loss is:0.141912043094635\n",
      "the loss is:0.13977470993995667\n",
      "the loss is:0.1905311793088913\n",
      "the loss is:0.055696751922369\n",
      "the loss is:0.1036759465932846\n",
      "the loss is:0.03513196483254433\n",
      "the loss is:0.31490233540534973\n",
      "the loss is:0.05862877890467644\n",
      "the loss is:0.14872083067893982\n",
      "the loss is:0.06905592978000641\n",
      "the loss is:0.09384264051914215\n",
      "the loss is:0.18434913456439972\n",
      "the loss is:0.11684466898441315\n",
      "the loss is:0.12072796374559402\n",
      "the loss is:0.17179904878139496\n",
      "the loss is:0.029527071863412857\n",
      "the loss is:0.20954076945781708\n",
      "the loss is:0.11502795666456223\n",
      "the loss is:0.19511762261390686\n",
      "the loss is:0.12339656054973602\n",
      "the loss is:0.31604498624801636\n",
      "the loss is:0.17204932868480682\n",
      "the loss is:0.1345338523387909\n",
      "the loss is:0.37633681297302246\n",
      "the loss is:0.22565247118473053\n",
      "the loss is:0.1594008505344391\n",
      "the loss is:0.23539209365844727\n",
      "the loss is:0.20389311015605927\n",
      "the loss is:0.10010755807161331\n",
      "the loss is:0.2095765471458435\n",
      "the loss is:0.03949088603258133\n",
      "the loss is:0.15742731094360352\n",
      "the loss is:0.09250003844499588\n",
      "the loss is:0.3349284827709198\n",
      "the loss is:0.031006183475255966\n",
      "the loss is:0.1741439551115036\n",
      "the loss is:0.18365013599395752\n",
      "the loss is:0.108863465487957\n",
      "the loss is:0.13678571581840515\n",
      "the loss is:0.09324537217617035\n",
      "the loss is:0.10551270842552185\n",
      "the loss is:0.1661785989999771\n",
      "the loss is:0.17960643768310547\n",
      "the loss is:0.136457160115242\n",
      "the loss is:0.06213846802711487\n",
      "the loss is:0.06706487387418747\n",
      "the loss is:0.15807831287384033\n",
      "the loss is:0.22373643517494202\n",
      "the loss is:0.03933735936880112\n",
      "the loss is:0.1401134580373764\n",
      "the loss is:0.04090417921543121\n",
      "the loss is:0.14192812144756317\n",
      "the loss is:0.10718678683042526\n",
      "the loss is:0.014938250184059143\n",
      "the loss is:0.1673731505870819\n",
      "the loss is:0.0765329971909523\n",
      "the loss is:0.056783657521009445\n",
      "the loss is:0.05770294740796089\n",
      "the loss is:0.14913049340248108\n",
      "the loss is:0.1727881133556366\n",
      "the loss is:0.09462568908929825\n",
      "the loss is:0.14425669610500336\n",
      "the loss is:0.1323155164718628\n",
      "the loss is:0.14537790417671204\n",
      "the loss is:0.09004699438810349\n",
      "the loss is:0.19470633566379547\n",
      "the loss is:0.15642212331295013\n",
      "the loss is:0.2156139612197876\n",
      "the loss is:0.11596360057592392\n",
      "the loss is:0.09948138892650604\n",
      "the loss is:0.10114553570747375\n",
      "the loss is:0.016151227056980133\n",
      "the loss is:0.027053050696849823\n",
      "the loss is:0.07523053139448166\n",
      "the loss is:0.09157172590494156\n",
      "the loss is:0.13737624883651733\n",
      "the loss is:0.18782639503479004\n",
      "the loss is:0.06892123073339462\n",
      "the loss is:0.02477790042757988\n",
      "the loss is:0.13063955307006836\n",
      "the loss is:0.18631866574287415\n",
      "the loss is:0.12350951135158539\n",
      "the loss is:0.1886911392211914\n",
      "the loss is:0.03446759656071663\n",
      "the loss is:0.26171183586120605\n",
      "the loss is:0.07693430781364441\n",
      "the loss is:0.15606911480426788\n",
      "the loss is:0.262664794921875\n",
      "the loss is:0.08915209770202637\n",
      "the loss is:0.02732466533780098\n",
      "the loss is:0.08816263824701309\n",
      "the loss is:0.049355145543813705\n",
      "the loss is:0.13498270511627197\n",
      "the loss is:0.08530274778604507\n",
      "the loss is:0.02138802409172058\n",
      "the loss is:0.23099075257778168\n",
      "the loss is:0.13957887887954712\n",
      "the loss is:0.06358721107244492\n",
      "the loss is:0.11123988032341003\n",
      "the loss is:0.10957611352205276\n",
      "the loss is:0.09225724637508392\n",
      "the loss is:0.2064603567123413\n",
      "the loss is:0.01921682059764862\n",
      "the loss is:0.4611925482749939\n",
      "the loss is:0.2156236469745636\n",
      "the loss is:0.10396473109722137\n",
      "the loss is:0.10090751945972443\n",
      "the loss is:0.04758365824818611\n",
      "the loss is:0.1012568473815918\n",
      "the loss is:0.08331139385700226\n",
      "the loss is:0.2352251410484314\n",
      "the loss is:0.262403666973114\n",
      "the loss is:0.08761153370141983\n",
      "the loss is:0.16930840909481049\n",
      "the loss is:0.14964833855628967\n",
      "the loss is:0.22930893301963806\n",
      "the loss is:0.09335456043481827\n",
      "the loss is:0.2991880774497986\n",
      "the loss is:0.20499414205551147\n",
      "the loss is:0.17039653658866882\n"
     ]
    }
   ],
   "source": [
    "for _ in range(epochs):\n",
    "    for i,(data,label) in enumerate(loader):\n",
    "        #set the gradients to 0\n",
    "        optimizer.zero_grad()\n",
    "        #reshape data\n",
    "        data = data.view(n_batch,28*28)\n",
    "        #predict the labels for the inputs\n",
    "        pred_label = network(data)\n",
    "        #calculate the loss between the predicted and true labels\n",
    "        err =  loss(pred_label,label)\n",
    "        #backpropagate to get the derivatives\n",
    "        err.backward()\n",
    "        print(\"the loss is:{}\".format(err))\n",
    "        #update the weights in accordance with the backpropagation\n",
    "        optimizer.step()"
   ]
  },
  {
   "cell_type": "code",
   "execution_count": 14,
   "metadata": {},
   "outputs": [
    {
     "name": "stdout",
     "output_type": "stream",
     "text": [
      "0.965\n",
      "0.97\n",
      "0.955\n",
      "0.961\n",
      "0.962\n",
      "0.951\n",
      "0.954\n",
      "0.96\n",
      "0.95\n",
      "0.96\n"
     ]
    }
   ],
   "source": [
    "for i,(data,label) in enumerate(test_loader):\n",
    "    data = data.view(n_batch_test,28*28)\n",
    "    pred = network(data)\n",
    "    pred_labels = torch.argmax(pred,1)\n",
    "    a = pred_labels == label\n",
    "    print(torch.sum(a).numpy()/n_batch_test)\n",
    "\n"
   ]
  },
  {
   "cell_type": "markdown",
   "metadata": {},
   "source": [
    "# Keras implementation"
   ]
  },
  {
   "cell_type": "code",
   "execution_count": 15,
   "metadata": {},
   "outputs": [
    {
     "name": "stderr",
     "output_type": "stream",
     "text": [
      "Using TensorFlow backend.\n"
     ]
    }
   ],
   "source": [
    "import numpy as np\n",
    "import pandas as pd\n",
    "import matplotlib.pyplot as plt\n",
    "import keras\n",
    "from keras.models import Sequential\n",
    "from keras.layers import Dense,Dropout\n",
    "from keras.layers.normalization import BatchNormalization\n",
    "from sklearn.model_selection import train_test_split"
   ]
  },
  {
   "cell_type": "markdown",
   "metadata": {},
   "source": [
    "Keras is a high level API used to construct different neural networks. Users are allowed to use different deep learning libaraies as backend (The actual code that runs the model and computation), such as TensorFlow, CNTK, or Theano.  It is a more straight-forward and user friendly API compared to Tensorflow (without the sessions, placeholder etc). "
   ]
  },
  {
   "cell_type": "markdown",
   "metadata": {},
   "source": [
    "## Import Dataset\n",
    "The dataset we are going to use today , MNIST, is one of the standard dataset commonly used for branchmarking, and thus Keras has created dedicated classes to import these standard datasets. \n",
    "There are other commonly used datasets, you can find them here:https://keras.io/datasets/"
   ]
  },
  {
   "cell_type": "code",
   "execution_count": 16,
   "metadata": {},
   "outputs": [],
   "source": [
    "# Keras has made it into a class\n",
    "from keras.datasets import mnist\n",
    "## separate data into training set and test set.\n",
    "(x_train, y_train), (x_test, y_test) = mnist.load_data()"
   ]
  },
  {
   "cell_type": "code",
   "execution_count": 17,
   "metadata": {},
   "outputs": [
    {
     "name": "stdout",
     "output_type": "stream",
     "text": [
      "Training set: (60000, 28, 28) Training Label: (60000,)\n",
      "Test set: (10000, 28, 28) Test Label: (10000,)\n"
     ]
    }
   ],
   "source": [
    "#lets inspect the shape of each component:\n",
    "print(\"Training set:\",x_train.shape,\"Training Label:\",y_train.shape)\n",
    "print(\"Test set:\",x_test.shape,\"Test Label:\",y_test.shape)"
   ]
  },
  {
   "cell_type": "markdown",
   "metadata": {},
   "source": [
    "The shape of each train and test set tells us how many 28x28 images are used for training and test, each images will have their own corresponding *labels*."
   ]
  },
  {
   "cell_type": "markdown",
   "metadata": {},
   "source": [
    "## Normalise the data\n",
    "Neural Network works better when the data is normalised. The idea is to put every features (input data into a common scale). It is especially important when the input data has different ranges of values. There are two main reasons for this technique:\n",
    "1. Un-normalised data will cause the gradient to oscillate back and forth, and the neural network will end up taking longer time to complete the training\n",
    "The power of neural network relies on its ability to adjust weights, such that it can get closer to the optimum vlaue. The gradient computed at each iteration served as a guiding light for the Neural Network, so that it knows which direction it should move in order to get to the global max/min.\n",
    "2. Features with higher range (such as income as compared to age), will dominate the learning as it will have the highest variation when we change the weight. Normalising the features can put every features on the same ground and thus each of them will be considered equally.\n",
    "\n",
    "One of the most common normalisation techniques is to normalise the feature range to [0,1]. \n",
    "$$y = \\frac{x - x_{min}}{x_{max}-x_{min}}$$"
   ]
  },
  {
   "cell_type": "code",
   "execution_count": 18,
   "metadata": {},
   "outputs": [],
   "source": [
    "x_train = (x_train - x_train.min())/(x_train.max() - x_train.min())\n",
    "x_test = (x_test - x_test.min())/(x_test.max() - x_test.min())"
   ]
  },
  {
   "cell_type": "code",
   "execution_count": 19,
   "metadata": {},
   "outputs": [
    {
     "data": {
      "text/plain": [
       "(1.0, 0.0, 1.0, 0.0)"
      ]
     },
     "execution_count": 19,
     "metadata": {},
     "output_type": "execute_result"
    }
   ],
   "source": [
    "## check the maximum and minimum:\n",
    "x_train.max(),x_train.min(),x_test.max(),x_test.min()"
   ]
  },
  {
   "cell_type": "markdown",
   "metadata": {},
   "source": [
    "## Prepare the dataformat for Keras"
   ]
  },
  {
   "cell_type": "code",
   "execution_count": 20,
   "metadata": {},
   "outputs": [],
   "source": [
    "x_train = x_train.reshape(60000, 28*28)\n",
    "x_test = x_test.reshape(10000, 28*28)\n",
    "## turn them into one-hot vector\n",
    "y_train = keras.utils.to_categorical(y_train, n_classes)\n",
    "y_test = keras.utils.to_categorical(y_test, n_classes)\n",
    "#further divides training data into training and validation data\n",
    "X_train, X_val, Y_train, Y_val = train_test_split(x_train, y_train, test_size = 0.1, random_state=42)"
   ]
  },
  {
   "cell_type": "code",
   "execution_count": 21,
   "metadata": {},
   "outputs": [
    {
     "name": "stdout",
     "output_type": "stream",
     "text": [
      "[0. 1. 0. 0. 0. 0. 0. 0. 0. 0.]\n"
     ]
    },
    {
     "data": {
      "image/png": "[encoded data removed]",
      "text/plain": [
       "<Figure size 432x288 with 1 Axes>"
      ]
     },
     "metadata": {
      "needs_background": "light"
     },
     "output_type": "display_data"
    }
   ],
   "source": [
    "plt.imshow(X_train[0].reshape(28,28))\n",
    "print(Y_train[0])"
   ]
  },
  {
   "cell_type": "code",
   "execution_count": 22,
   "metadata": {},
   "outputs": [
    {
     "name": "stdout",
     "output_type": "stream",
     "text": [
      "WARNING:tensorflow:From /home/paddy/anaconda3/envs/py37/lib/python3.7/site-packages/tensorflow/python/framework/op_def_library.py:263: colocate_with (from tensorflow.python.framework.ops) is deprecated and will be removed in a future version.\n",
      "Instructions for updating:\n",
      "Colocations handled automatically by placer.\n"
     ]
    }
   ],
   "source": [
    "model = Sequential()\n",
    "model.add(Dense(1024, activation='relu'))\n",
    "model.add(Dense(512, activation='relu'))\n",
    "model.add(Dense(128, activation='relu'))\n",
    "model.add(Dense(n_classes, activation='softmax'))\n",
    "\n",
    "model.compile(loss=keras.losses.categorical_crossentropy,\n",
    "              optimizer=keras.optimizers.Adam(lr = learning_rate ),\n",
    "              metrics=['accuracy'])\n"
   ]
  },
  {
   "cell_type": "markdown",
   "metadata": {},
   "source": [
    "## Construct and Run"
   ]
  },
  {
   "cell_type": "code",
   "execution_count": 23,
   "metadata": {},
   "outputs": [
    {
     "name": "stdout",
     "output_type": "stream",
     "text": [
      "WARNING:tensorflow:From /home/paddy/anaconda3/envs/py37/lib/python3.7/site-packages/tensorflow/python/ops/math_ops.py:3066: to_int32 (from tensorflow.python.ops.math_ops) is deprecated and will be removed in a future version.\n",
      "Instructions for updating:\n",
      "Use tf.cast instead.\n",
      "Train on 54000 samples, validate on 6000 samples\n",
      "Epoch 1/1\n",
      "54000/54000 [==============================] - 31s 578us/step - loss: 0.1996 - acc: 0.9396 - val_loss: 0.0958 - val_acc: 0.9712\n"
     ]
    }
   ],
   "source": [
    "history = model.fit(X_train,Y_train,batch_size=n_batch,\n",
    "                                     epochs=epochs,\n",
    "                                     verbose=1,\n",
    "                                     validation_data=(X_val, Y_val), shuffle=True)"
   ]
  },
  {
   "cell_type": "markdown",
   "metadata": {},
   "source": [
    "## Evaluate Performance on the test data"
   ]
  },
  {
   "cell_type": "code",
   "execution_count": 24,
   "metadata": {},
   "outputs": [
    {
     "name": "stdout",
     "output_type": "stream",
     "text": [
      "Test loss: 0.1046304776057601\n",
      "Test accuracy: 0.9675\n"
     ]
    }
   ],
   "source": [
    "score = model.evaluate(x_test, y_test, verbose=0)\n",
    "print('Test loss:', score[0])\n",
    "print('Test accuracy:', score[1])"
   ]
  },
  {
   "cell_type": "markdown",
   "metadata": {},
   "source": [
    "## Tensorboard\n",
    "\n",
    "In the last section we have used Tensorboard to look at some simple computation graph. Keras provided a simple functionality to incorporate our model into Tensorboard. It can be used to monitor the training process, the entire architecture of the deep learning model and their associated weights, and many more: check out this link:\n",
    "https://keras.io/callbacks/"
   ]
  },
  {
   "cell_type": "code",
   "execution_count": 25,
   "metadata": {},
   "outputs": [
    {
     "name": "stdout",
     "output_type": "stream",
     "text": [
      "Train on 54000 samples, validate on 6000 samples\n",
      "Epoch 1/1\n",
      "54000/54000 [==============================] - 29s 528us/step - loss: 0.0844 - acc: 0.9740 - val_loss: 0.0812 - val_acc: 0.9767\n"
     ]
    }
   ],
   "source": [
    "## initialise tensorboard call back object\n",
    "csvlogger = keras.callbacks.CSVLogger(\"./Graph/training_log.csv\", separator=',', append=False)\n",
    "\n",
    "\n",
    "tbCallBack = keras.callbacks.TensorBoard(log_dir='./Graph', \n",
    "                                         histogram_freq=1, \n",
    "                                         write_graph=True, \n",
    "                                         write_images=False,update_freq='epoch',batch_size=n_batch)\n",
    "\n",
    "history = model.fit(X_train,Y_train,batch_size=n_batch,\n",
    "                                     epochs=epochs,\n",
    "                                     verbose=1,\n",
    "                                     validation_data=(X_val, Y_val), shuffle=True,callbacks=[tbCallBack,csvlogger])"
   ]
  },
  {
   "cell_type": "markdown",
   "metadata": {},
   "source": [
    "# What about Tensorflow?"
   ]
  },
  {
   "cell_type": "markdown",
   "metadata": {},
   "source": [
    "\n",
    "We have been talking about PyTorch, Keras etc, but where is Tensorflow ?\n",
    "Tensorflow implementation is actually less straight forward. As you have seen in the previous seminar, to run a deep learning model we will need to the following:\n",
    "1. Define the variables (placeholders) for any input to the computational graph\n",
    "2. Define the computational graph ( in this case, our deep learning model)\n",
    "3. Define the loss function and optimizer\n",
    "4. Start a session and train it"
   ]
  },
  {
   "cell_type": "markdown",
   "metadata": {},
   "source": [
    "## Import module"
   ]
  },
  {
   "cell_type": "code",
   "execution_count": 26,
   "metadata": {},
   "outputs": [],
   "source": [
    "import tensorflow as tf\n",
    "## Tensorflow has also created a module for MNIST dataset\n",
    "from tensorflow.examples.tutorials.mnist import input_data"
   ]
  },
  {
   "cell_type": "code",
   "execution_count": 27,
   "metadata": {},
   "outputs": [
    {
     "name": "stdout",
     "output_type": "stream",
     "text": [
      "WARNING:tensorflow:From <ipython-input-27-ce28c7c86e34>:2: read_data_sets (from tensorflow.contrib.learn.python.learn.datasets.mnist) is deprecated and will be removed in a future version.\n",
      "Instructions for updating:\n",
      "Please use alternatives such as official/mnist/dataset.py from tensorflow/models.\n",
      "WARNING:tensorflow:From /home/paddy/anaconda3/envs/py37/lib/python3.7/site-packages/tensorflow/contrib/learn/python/learn/datasets/mnist.py:260: maybe_download (from tensorflow.contrib.learn.python.learn.datasets.base) is deprecated and will be removed in a future version.\n",
      "Instructions for updating:\n",
      "Please write your own downloading logic.\n",
      "WARNING:tensorflow:From /home/paddy/anaconda3/envs/py37/lib/python3.7/site-packages/tensorflow/contrib/learn/python/learn/datasets/mnist.py:262: extract_images (from tensorflow.contrib.learn.python.learn.datasets.mnist) is deprecated and will be removed in a future version.\n",
      "Instructions for updating:\n",
      "Please use tf.data to implement this functionality.\n",
      "Extracting /tmp/data/train-images-idx3-ubyte.gz\n",
      "WARNING:tensorflow:From /home/paddy/anaconda3/envs/py37/lib/python3.7/site-packages/tensorflow/contrib/learn/python/learn/datasets/mnist.py:267: extract_labels (from tensorflow.contrib.learn.python.learn.datasets.mnist) is deprecated and will be removed in a future version.\n",
      "Instructions for updating:\n",
      "Please use tf.data to implement this functionality.\n",
      "Extracting /tmp/data/train-labels-idx1-ubyte.gz\n",
      "WARNING:tensorflow:From /home/paddy/anaconda3/envs/py37/lib/python3.7/site-packages/tensorflow/contrib/learn/python/learn/datasets/mnist.py:110: dense_to_one_hot (from tensorflow.contrib.learn.python.learn.datasets.mnist) is deprecated and will be removed in a future version.\n",
      "Instructions for updating:\n",
      "Please use tf.one_hot on tensors.\n",
      "Extracting /tmp/data/t10k-images-idx3-ubyte.gz\n",
      "Extracting /tmp/data/t10k-labels-idx1-ubyte.gz\n",
      "WARNING:tensorflow:From /home/paddy/anaconda3/envs/py37/lib/python3.7/site-packages/tensorflow/contrib/learn/python/learn/datasets/mnist.py:290: DataSet.__init__ (from tensorflow.contrib.learn.python.learn.datasets.mnist) is deprecated and will be removed in a future version.\n",
      "Instructions for updating:\n",
      "Please use alternatives such as official/mnist/dataset.py from tensorflow/models.\n"
     ]
    }
   ],
   "source": [
    "## load the data, set one hot to True, similar to what we did in keras.utils.to_categorical\n",
    "mnist = input_data.read_data_sets(\"/tmp/data/\", one_hot = True)\n",
    "\n"
   ]
  },
  {
   "cell_type": "markdown",
   "metadata": {},
   "source": [
    "## Hyperparameters"
   ]
  },
  {
   "cell_type": "code",
   "execution_count": 28,
   "metadata": {},
   "outputs": [],
   "source": [
    "## number of nodes for different hidden layers\n",
    "n_nodes_hl1 = 1024\n",
    "n_nodes_hl2 = 512\n",
    "n_nodes_hl3 = 128\n"
   ]
  },
  {
   "cell_type": "code",
   "execution_count": 29,
   "metadata": {},
   "outputs": [],
   "source": [
    "## Define our variables. 784 is the flatten version of the 28x28 image\n",
    "input_data = tf.placeholder('float', [None, 28*28])\n",
    "target = tf.placeholder('float')\n",
    "\n"
   ]
  },
  {
   "cell_type": "markdown",
   "metadata": {},
   "source": [
    "## Define the Neural Network Model"
   ]
  },
  {
   "cell_type": "code",
   "execution_count": 30,
   "metadata": {},
   "outputs": [],
   "source": [
    "def neural_network_model(data):\n",
    "    #initialise weights for different hidden layers\n",
    "    hidden_1_layer = {'weights':tf.Variable(tf.random_normal([28*28, n_nodes_hl1])),\n",
    "                      'biases':tf.Variable(tf.random_normal([n_nodes_hl1]))}\n",
    "\n",
    "    hidden_2_layer = {'weights':tf.Variable(tf.random_normal([n_nodes_hl1, n_nodes_hl2])),\n",
    "                      'biases':tf.Variable(tf.random_normal([n_nodes_hl2]))}\n",
    "\n",
    "    hidden_3_layer = {'weights':tf.Variable(tf.random_normal([n_nodes_hl2, n_nodes_hl3])),\n",
    "                      'biases':tf.Variable(tf.random_normal([n_nodes_hl3]))}\n",
    "\n",
    "    output_layer = {'weights':tf.Variable(tf.random_normal([n_nodes_hl3, n_classes])),\n",
    "                    'biases':tf.Variable(tf.random_normal([n_classes])),}\n",
    "\n",
    "\n",
    "    layer1 = tf.add(tf.matmul(data,hidden_1_layer['weights']), hidden_1_layer['biases'])\n",
    "    layer1 = tf.nn.relu(layer1)\n",
    "\n",
    "    layer2 = tf.add(tf.matmul(layer1,hidden_2_layer['weights']), hidden_2_layer['biases'])\n",
    "    layer2 = tf.nn.relu(layer2)\n",
    "\n",
    "    layer3 = tf.add(tf.matmul(layer2,hidden_3_layer['weights']), hidden_3_layer['biases'])\n",
    "    layer3 = tf.nn.relu(layer3)\n",
    "\n",
    "    output = tf.matmul(layer3,output_layer['weights']) + output_layer['biases']\n",
    "\n",
    "    return output\n",
    "\n"
   ]
  },
  {
   "cell_type": "code",
   "execution_count": 31,
   "metadata": {},
   "outputs": [
    {
     "name": "stdout",
     "output_type": "stream",
     "text": [
      "Epoch 0 completed out of 1 loss: 1437384.552558899\n",
      "Accuracy: 0.9051\n"
     ]
    }
   ],
   "source": [
    "prediction = neural_network_model(input_data)\n",
    "# OLD VERSION:\n",
    "#cost = tf.reduce_mean( tf.nn.softmax_cross_entropy_with_logits(prediction,y) )\n",
    "# NEW:\n",
    "cost = tf.reduce_mean( tf.nn.softmax_cross_entropy_with_logits_v2(logits=prediction, labels=target) )\n",
    "optimizer = tf.train.AdamOptimizer(learning_rate=learning_rate).minimize(cost)\n",
    "\n",
    "with tf.Session() as sess:\n",
    "    # OLD:\n",
    "    #sess.run(tf.initialize_all_variables())\n",
    "    # NEW:\n",
    "    sess.run(tf.global_variables_initializer())\n",
    "    ## epochs, number of times NN will see the data\n",
    "    for epoch in range(epochs):\n",
    "        epoch_loss = 0\n",
    "        for _ in range(int(mnist.train.num_examples/n_batch)):\n",
    "            epoch_x, epoch_y = mnist.train.next_batch(n_batch)\n",
    "            _, c = sess.run([optimizer, cost], feed_dict={input_data: epoch_x, target: epoch_y})\n",
    "            epoch_loss += c\n",
    "\n",
    "        print('Epoch', epoch, 'completed out of',epochs,'loss:',epoch_loss)\n",
    "    correct = tf.equal(tf.argmax(prediction, 1), tf.argmax(target, 1))\n",
    "\n",
    "    accuracy = tf.reduce_mean(tf.cast(correct, 'float'))\n",
    "    print('Accuracy:',accuracy.eval({input_data:mnist.test.images, target:mnist.test.labels}))\n",
    "\n"
   ]
  },
  {
   "cell_type": "code",
   "execution_count": 32,
   "metadata": {},
   "outputs": [
    {
     "data": {
      "text/plain": [
       "array([0., 0., 0., 0., 0., 0., 0., 1., 0., 0.])"
      ]
     },
     "execution_count": 32,
     "metadata": {},
     "output_type": "execute_result"
    }
   ],
   "source": [
    "mnist.test.labels[0]"
   ]
  },
  {
   "cell_type": "markdown",
   "metadata": {},
   "source": [
    "# Keras or Tensorflow? Why not both?"
   ]
  },
  {
   "cell_type": "markdown",
   "metadata": {},
   "source": [
    "## Tensorflow 2-Alpha\n",
    "\n",
    "Tensorflow 2 is a major update from the Tensforflow team. As quoted from the website, \"TensorFlow 2.0 focuses on simplicity and ease of use, with updates like eager execution, intuitive higher-level APIs, and flexible model building on any platform.\", lets have a look at the implementation from Tensorflow 2"
   ]
  },
  {
   "cell_type": "code",
   "execution_count": 33,
   "metadata": {
    "scrolled": true
   },
   "outputs": [
    {
     "name": "stdout",
     "output_type": "stream",
     "text": [
      "WARNING:tensorflow:From /home/paddy/anaconda3/envs/py37/lib/python3.7/site-packages/tensorflow/python/keras/layers/core.py:143: calling dropout (from tensorflow.python.ops.nn_ops) with keep_prob is deprecated and will be removed in a future version.\n",
      "Instructions for updating:\n",
      "Please use `rate` instead of `keep_prob`. Rate should be set to `rate = 1 - keep_prob`.\n",
      "60000/60000 [==============================] - 8s 135us/sample - loss: 0.2930 - acc: 0.9146\n",
      "10000/10000 [==============================] - 1s 62us/sample - loss: 0.1487 - acc: 0.9552\n"
     ]
    },
    {
     "data": {
      "text/plain": [
       "[0.1487422814577818, 0.9552]"
      ]
     },
     "execution_count": 33,
     "metadata": {},
     "output_type": "execute_result"
    }
   ],
   "source": [
    "## import modules\n",
    "#from __future__ import absolute_import, division, print_function, unicode_literals\n",
    "\n",
    "# Install TensorFlow\n",
    "#!pip install -q tensorflow==2.0.0-alpha0\n",
    "\n",
    "#import tensorflow as tf\n",
    "\n",
    "## load data\n",
    "mnist = tf.keras.datasets.mnist\n",
    "\n",
    "(x_train, y_train), (x_test, y_test) = mnist.load_data()\n",
    "x_train, x_test = x_train / 255.0, x_test / 255.0\n",
    "\n",
    "model = tf.keras.models.Sequential([\n",
    "  tf.keras.layers.Flatten(input_shape=(28, 28)),\n",
    "  tf.keras.layers.Dense(128, activation='relu'),\n",
    "  tf.keras.layers.Dropout(0.2),\n",
    "  tf.keras.layers.Dense(10, activation='softmax')\n",
    "])\n",
    "\n",
    "model.compile(optimizer='adam',\n",
    "              loss='sparse_categorical_crossentropy',\n",
    "              metrics=['accuracy'])\n",
    "\n",
    "model.fit(x_train, y_train, epochs=epochs)\n",
    "\n",
    "model.evaluate(x_test, y_test)"
   ]
  },
  {
   "cell_type": "markdown",
   "metadata": {},
   "source": [
    "## Examples of using AI in the field of astronomy"
   ]
  },
  {
   "cell_type": "markdown",
   "metadata": {},
   "source": [
    "Deep learning of multi-element abundances from high-resolution spectroscopic data https://arxiv.org/abs/1808.04428\n",
    "\n",
    "\n",
    "Galaxy detection and identification using deep learning and dataaugmentation \n",
    "https://arxiv.org/pdf/1809.01691.pdf\n",
    "\n",
    "CosmoFlow: Using Deep Learning to Learn the Universe at Scale\n",
    "https://arxiv.org/pdf/1808.04728.pdf\n",
    "\n",
    "Identifying Exoplanets with Deep Learning: A Five-planet Resonant Chain around Kepler-80 and an Eighth Planet around Kepler-90\n",
    "https://iopscience.iop.org/article/10.3847/1538-3881/aa9e09/pdf"
   ]
  },
  {
   "cell_type": "markdown",
   "metadata": {},
   "source": [
    "### Why Neural Networks?\n",
    "\n",
    "Neural network are very flexible function estimators that learn through being shown \"examples\". Compared to other techniques, a strength of Neural Networks is that they can be customized to fit the structure of a dataset (Convolutional Neural Networks for images, Recurrent Neural Networks for time-series). Another advantage is that once trained, they can yield very quick predictions.\n",
    "\n",
    "Unlike other algorithms like Support Vector Machines or Linear Regression, the loss function they minimize is not convex (ie it does not have a single minimum). Instead it has multiple minimums, and in training we are interested in finding a suitably good minimum (as opposed to a global minimum). This means that their training can sometimes be a lot more fiddly. The loss function that you minimize can also be modified to fit the task you are trying to accomplish (see VAE or GAN for example)."
   ]
  },
  {
   "cell_type": "markdown",
   "metadata": {},
   "source": [
    "There is actually an interesting debate going on about whether deep learning methods should be assumption driven or whether they should be fully black-box methods. (see this open letter by max welling for example https://staff.fnwi.uva.nl/m.welling/wp-content/uploads/Model-versus-Data-AI-1.pdf)"
   ]
  },
  {
   "cell_type": "markdown",
   "metadata": {},
   "source": [
    "This picture shows the loss function with only 2 parameters. As always our intuition breaks down, neural networks will usually have tens of thousands of parameters. A minima will then only occur when all dimenions are at a minimum (otherwise saddle point). As such, its alot harder to reach a local minima. This is the same type of insight as the lottery ticket paper (see link). "
   ]
  }
 ],
 "metadata": {
  "kernelspec": {
   "display_name": "Python 3",
   "language": "python",
   "name": "python3"
  },
  "language_info": {
   "codemirror_mode": {
    "name": "ipython",
    "version": 3
   },
   "file_extension": ".py",
   "mimetype": "text/x-python",
   "name": "python",
   "nbconvert_exporter": "python",
   "pygments_lexer": "ipython3",
   "version": "3.7.1"
  }
 },
 "nbformat": 4,
 "nbformat_minor": 2
}
